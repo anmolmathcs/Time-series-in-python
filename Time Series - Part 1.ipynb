{
 "cells": [
  {
   "cell_type": "markdown",
   "metadata": {},
   "source": [
    "1.         You have a time series of revenue from a particular sport gear store. It is time series with weeks assigned. The time series have seasonality and trend. The goal is to predict the next  10 weeks as accurately as possible. The data is attached in Excel file, please use software that you see fit and provide the code together with your answers. The code has to be run through, that means if I open in R environment I should be able to run end to end and have the forecast in the output. The white paper should have explanation of model selection and the criteria of the choice of the model and parameters if needed."
   ]
  },
  {
   "cell_type": "code",
   "execution_count": 1,
   "metadata": {},
   "outputs": [],
   "source": [
    "# Installing packages\n",
    "!pip install pandas\n",
    "!pip install matplotlib\n",
    "!pip install sklearn\n",
    "!pip install tensorflow\n",
    "!pip install keras\n",
    "!pip install statsmodel\n"
   ]
  },
  {
   "cell_type": "code",
   "execution_count": 2,
   "metadata": {},
   "outputs": [],
   "source": [
    "import pandas as pd\n",
    "import matplotlib.pyplot as plt\n",
    "\n",
    "import warnings\n",
    "warnings.filterwarnings(\"ignore\")"
   ]
  },
  {
   "cell_type": "markdown",
   "metadata": {},
   "source": [
    "## Data Importing"
   ]
  },
  {
   "cell_type": "code",
   "execution_count": 3,
   "metadata": {},
   "outputs": [],
   "source": [
    "df = pd.read_excel(\"Time series for STat Take Home test.xlsx\")"
   ]
  },
  {
   "cell_type": "code",
   "execution_count": 4,
   "metadata": {},
   "outputs": [
    {
     "data": {
      "text/plain": [
       "(281, 2)"
      ]
     },
     "execution_count": 4,
     "metadata": {},
     "output_type": "execute_result"
    }
   ],
   "source": [
    "df.shape"
   ]
  },
  {
   "cell_type": "code",
   "execution_count": 5,
   "metadata": {},
   "outputs": [
    {
     "data": {
      "text/html": [
       "<div>\n",
       "<style scoped>\n",
       "    .dataframe tbody tr th:only-of-type {\n",
       "        vertical-align: middle;\n",
       "    }\n",
       "\n",
       "    .dataframe tbody tr th {\n",
       "        vertical-align: top;\n",
       "    }\n",
       "\n",
       "    .dataframe thead th {\n",
       "        text-align: right;\n",
       "    }\n",
       "</style>\n",
       "<table border=\"1\" class=\"dataframe\">\n",
       "  <thead>\n",
       "    <tr style=\"text-align: right;\">\n",
       "      <th></th>\n",
       "      <th>week</th>\n",
       "      <th>Rev from a Sport Store retail</th>\n",
       "    </tr>\n",
       "  </thead>\n",
       "  <tbody>\n",
       "    <tr>\n",
       "      <th>0</th>\n",
       "      <td>15-W01</td>\n",
       "      <td>9.956822e+05</td>\n",
       "    </tr>\n",
       "    <tr>\n",
       "      <th>1</th>\n",
       "      <td>15-W02</td>\n",
       "      <td>1.175470e+06</td>\n",
       "    </tr>\n",
       "    <tr>\n",
       "      <th>2</th>\n",
       "      <td>15-W03</td>\n",
       "      <td>1.406700e+06</td>\n",
       "    </tr>\n",
       "    <tr>\n",
       "      <th>3</th>\n",
       "      <td>15-W04</td>\n",
       "      <td>1.042557e+06</td>\n",
       "    </tr>\n",
       "    <tr>\n",
       "      <th>4</th>\n",
       "      <td>15-W05</td>\n",
       "      <td>1.268013e+06</td>\n",
       "    </tr>\n",
       "  </tbody>\n",
       "</table>\n",
       "</div>"
      ],
      "text/plain": [
       "     week  Rev from a Sport Store retail\n",
       "0  15-W01                   9.956822e+05\n",
       "1  15-W02                   1.175470e+06\n",
       "2  15-W03                   1.406700e+06\n",
       "3  15-W04                   1.042557e+06\n",
       "4  15-W05                   1.268013e+06"
      ]
     },
     "execution_count": 5,
     "metadata": {},
     "output_type": "execute_result"
    }
   ],
   "source": [
    "df.head()\n"
   ]
  },
  {
   "cell_type": "code",
   "execution_count": 6,
   "metadata": {},
   "outputs": [],
   "source": [
    "# renaming revenue variable\n",
    "df.rename(columns = {'Rev from a Sport Store retail':'revenue'},inplace=True)"
   ]
  },
  {
   "cell_type": "code",
   "execution_count": 7,
   "metadata": {
    "scrolled": true
   },
   "outputs": [
    {
     "data": {
      "text/plain": [
       "array(['15-W01', '15-W02', '15-W03', '15-W04', '15-W05', '15-W06',\n",
       "       '15-W07', '15-W08', '15-W09', '15-W10', '15-W11', '15-W12',\n",
       "       '15-W13', '15-W14', '15-W15', '15-W16', '15-W17', '15-W18',\n",
       "       '15-W19', '15-W20', '15-W21', '15-W22', '15-W23', '15-W24',\n",
       "       '15-W25', '15-W26', '15-W27', '15-W28', '15-W29', '15-W30',\n",
       "       '15-W31', '15-W32', '15-W33', '15-W34', '15-W35', '15-W36',\n",
       "       '15-W37', '15-W38', '15-W39', '15-W40', '15-W41', '15-W42',\n",
       "       '15-W43', '15-W44', '15-W45', '15-W46', '15-W47', '15-W48',\n",
       "       '15-W49', '15-W50', '15-W51', '15-W52', '16-W01', '16-W02',\n",
       "       '16-W03', '16-W04', '16-W05', '16-W06', '16-W07', '16-W08',\n",
       "       '16-W09', '16-W10', '16-W11', '16-W12', '16-W13', '16-W14',\n",
       "       '16-W15', '16-W16', '16-W17', '16-W18', '16-W19', '16-W20',\n",
       "       '16-W21', '16-W22', '16-W23', '16-W24', '16-W25', '16-W26',\n",
       "       '16-W27', '16-W28', '16-W29', '16-W30', '16-W31', '16-W32',\n",
       "       '16-W33', '16-W34', '16-W35', '16-W36', '16-W37', '16-W38',\n",
       "       '16-W39', '16-W40', '16-W41', '16-W42', '16-W43', '16-W44',\n",
       "       '16-W45', '16-W46', '16-W47', '16-W48', '16-W49', '16-W50',\n",
       "       '16-W51', '16-W52', '17-W01', '17-W02', '17-W03', '17-W04',\n",
       "       '17-W05', '17-W06', '17-W07', '17-W08', '17-W09', '17-W10',\n",
       "       '17-W11', '17-W12', '17-W13', '17-W14', '17-W15', '17-W16',\n",
       "       '17-W17', '17-W18', '17-W19', '17-W20', '17-W21', '17-W22',\n",
       "       '17-W23', '17-W24', '17-W25', '17-W26', '17-W27', '17-W28',\n",
       "       '17-W29', '17-W30', '17-W31', '17-W32', '17-W33', '17-W34',\n",
       "       '17-W35', '17-W36', '17-W37', '17-W38', '17-W39', '17-W40',\n",
       "       '17-W41', '17-W42', '17-W43', '17-W44', '17-W45', '17-W46',\n",
       "       '17-W47', '17-W48', '17-W49', '17-W50', '17-W51', '17-W52',\n",
       "       '17-W53', '18-W01', '18-W02', '18-W03', '18-W04', '18-W05',\n",
       "       '18-W06', '18-W07', '18-W08', '18-W09', '18-W10', '18-W11',\n",
       "       '18-W12', '18-W13', '18-W14', '18-W15', '18-W16', '18-W17',\n",
       "       '18-W18', '18-W19', '18-W', '18-W21', '18-W22', '18-W23', '18-W24',\n",
       "       '18-W25', '18-W26', '18-W27', '18-W28', '18-W29', '18-W30',\n",
       "       '18-W31', '18-W32', '18-W33', '18-W34', '18-W35', '18-W36',\n",
       "       '18-W37', '18-W38', '18-W39', '18-W40', '18-W41', '18-W42',\n",
       "       '18-W43', '18-W44', '18-W45', '18-W46', '18-W47', '18-W48',\n",
       "       '18-W49', '18-W50', '18-W51', '18-W52', '19-W01', '19-W02',\n",
       "       '19-W03', '19-W04', '19-W05', '19-W06', '19-W07', '19-W08',\n",
       "       '19-W09', '19-W10', '19-W11', '19-W12', '19-W13', '19-W14',\n",
       "       '19-W15', '19-W16', '19-W17', '19-W18', '19-W19', '19-W20',\n",
       "       '19-W21', '19-W22', '19-W23', '19-W24', '19-W25', '19-W26',\n",
       "       '19-W27', '19-W28', '19-W29', '19-W30', '19-W31', '19-W32',\n",
       "       '19-W33', '19-W34', '19-W35', '19-W36', '19-W37', '19-W38',\n",
       "       '19-W39', '19-W40', '19-W41', '19-W42', '19-W43', '19-W44',\n",
       "       '19-W45', '19-W46', '19-W47', '19-W48', '19-W49', '19-W50',\n",
       "       '19-W51', '19-W52', '20-W01', '20-W02', '20-W03', '20-W04',\n",
       "       '20-W05', '20-W06', '20-W07', '20-W08', '20-W09', '20-W10',\n",
       "       'test_-W11', 'test_-W12', 'test_-W13', 'test_-W14', 'test_-W15',\n",
       "       'test_-W16', 'test_-W17', 'test_-W18', 'test_-W19', 'test_-W20'],\n",
       "      dtype=object)"
      ]
     },
     "execution_count": 7,
     "metadata": {},
     "output_type": "execute_result"
    }
   ],
   "source": [
    "df.week.unique()"
   ]
  },
  {
   "cell_type": "markdown",
   "metadata": {},
   "source": [
    "By viewing the unique values of week variable we see that week 20 of year 18 is possibly a human error as all the weeks seem to be in ascending order and only that week's value is not appearing properly(appearing as 18-W whereas it is expected to be 18-W20. Hence, we change its value using the below python code"
   ]
  },
  {
   "cell_type": "code",
   "execution_count": 8,
   "metadata": {},
   "outputs": [],
   "source": [
    "df.loc[df['week']=='18-W','week']='18-W20'"
   ]
  },
  {
   "cell_type": "code",
   "execution_count": 9,
   "metadata": {
    "scrolled": true
   },
   "outputs": [
    {
     "data": {
      "text/html": [
       "<div>\n",
       "<style scoped>\n",
       "    .dataframe tbody tr th:only-of-type {\n",
       "        vertical-align: middle;\n",
       "    }\n",
       "\n",
       "    .dataframe tbody tr th {\n",
       "        vertical-align: top;\n",
       "    }\n",
       "\n",
       "    .dataframe thead th {\n",
       "        text-align: right;\n",
       "    }\n",
       "</style>\n",
       "<table border=\"1\" class=\"dataframe\">\n",
       "  <thead>\n",
       "    <tr style=\"text-align: right;\">\n",
       "      <th></th>\n",
       "      <th>week</th>\n",
       "      <th>revenue</th>\n",
       "    </tr>\n",
       "  </thead>\n",
       "  <tbody>\n",
       "    <tr>\n",
       "      <th>261</th>\n",
       "      <td>20-W01</td>\n",
       "      <td>1.122936e+06</td>\n",
       "    </tr>\n",
       "    <tr>\n",
       "      <th>262</th>\n",
       "      <td>20-W02</td>\n",
       "      <td>1.259626e+06</td>\n",
       "    </tr>\n",
       "    <tr>\n",
       "      <th>263</th>\n",
       "      <td>20-W03</td>\n",
       "      <td>1.212462e+06</td>\n",
       "    </tr>\n",
       "    <tr>\n",
       "      <th>264</th>\n",
       "      <td>20-W04</td>\n",
       "      <td>1.443774e+06</td>\n",
       "    </tr>\n",
       "    <tr>\n",
       "      <th>265</th>\n",
       "      <td>20-W05</td>\n",
       "      <td>1.618276e+06</td>\n",
       "    </tr>\n",
       "    <tr>\n",
       "      <th>266</th>\n",
       "      <td>20-W06</td>\n",
       "      <td>1.454491e+06</td>\n",
       "    </tr>\n",
       "    <tr>\n",
       "      <th>267</th>\n",
       "      <td>20-W07</td>\n",
       "      <td>1.851955e+06</td>\n",
       "    </tr>\n",
       "    <tr>\n",
       "      <th>268</th>\n",
       "      <td>20-W08</td>\n",
       "      <td>2.236988e+06</td>\n",
       "    </tr>\n",
       "    <tr>\n",
       "      <th>269</th>\n",
       "      <td>20-W09</td>\n",
       "      <td>1.462602e+06</td>\n",
       "    </tr>\n",
       "    <tr>\n",
       "      <th>270</th>\n",
       "      <td>20-W10</td>\n",
       "      <td>1.782698e+06</td>\n",
       "    </tr>\n",
       "    <tr>\n",
       "      <th>271</th>\n",
       "      <td>test_-W11</td>\n",
       "      <td>NaN</td>\n",
       "    </tr>\n",
       "    <tr>\n",
       "      <th>272</th>\n",
       "      <td>test_-W12</td>\n",
       "      <td>NaN</td>\n",
       "    </tr>\n",
       "    <tr>\n",
       "      <th>273</th>\n",
       "      <td>test_-W13</td>\n",
       "      <td>NaN</td>\n",
       "    </tr>\n",
       "    <tr>\n",
       "      <th>274</th>\n",
       "      <td>test_-W14</td>\n",
       "      <td>NaN</td>\n",
       "    </tr>\n",
       "    <tr>\n",
       "      <th>275</th>\n",
       "      <td>test_-W15</td>\n",
       "      <td>NaN</td>\n",
       "    </tr>\n",
       "    <tr>\n",
       "      <th>276</th>\n",
       "      <td>test_-W16</td>\n",
       "      <td>NaN</td>\n",
       "    </tr>\n",
       "    <tr>\n",
       "      <th>277</th>\n",
       "      <td>test_-W17</td>\n",
       "      <td>NaN</td>\n",
       "    </tr>\n",
       "    <tr>\n",
       "      <th>278</th>\n",
       "      <td>test_-W18</td>\n",
       "      <td>NaN</td>\n",
       "    </tr>\n",
       "    <tr>\n",
       "      <th>279</th>\n",
       "      <td>test_-W19</td>\n",
       "      <td>NaN</td>\n",
       "    </tr>\n",
       "    <tr>\n",
       "      <th>280</th>\n",
       "      <td>test_-W20</td>\n",
       "      <td>NaN</td>\n",
       "    </tr>\n",
       "  </tbody>\n",
       "</table>\n",
       "</div>"
      ],
      "text/plain": [
       "          week       revenue\n",
       "261     20-W01  1.122936e+06\n",
       "262     20-W02  1.259626e+06\n",
       "263     20-W03  1.212462e+06\n",
       "264     20-W04  1.443774e+06\n",
       "265     20-W05  1.618276e+06\n",
       "266     20-W06  1.454491e+06\n",
       "267     20-W07  1.851955e+06\n",
       "268     20-W08  2.236988e+06\n",
       "269     20-W09  1.462602e+06\n",
       "270     20-W10  1.782698e+06\n",
       "271  test_-W11           NaN\n",
       "272  test_-W12           NaN\n",
       "273  test_-W13           NaN\n",
       "274  test_-W14           NaN\n",
       "275  test_-W15           NaN\n",
       "276  test_-W16           NaN\n",
       "277  test_-W17           NaN\n",
       "278  test_-W18           NaN\n",
       "279  test_-W19           NaN\n",
       "280  test_-W20           NaN"
      ]
     },
     "execution_count": 9,
     "metadata": {},
     "output_type": "execute_result"
    }
   ],
   "source": [
    "df.tail(20)"
   ]
  },
  {
   "cell_type": "code",
   "execution_count": 10,
   "metadata": {},
   "outputs": [],
   "source": [
    "# We create a year column and week column\n",
    "\n",
    "def get_year(week_end): # This function takes in week_end date as the input parameter and returns year of the date\n",
    "    year = week_end.split(\"-\")[0]\n",
    "    return year\n",
    "\n",
    "def get_week(week_end): # This function takes in week_end date as the input parameter and returns week of the date\n",
    "    week = week_end.split(\"-\")[1]\n",
    "    return week"
   ]
  },
  {
   "cell_type": "code",
   "execution_count": 11,
   "metadata": {},
   "outputs": [],
   "source": [
    "df['year_num'] = df.apply(lambda row: get_year(row['week']),axis=1)\n",
    "df['week_num'] = df.apply(lambda row: get_week(row['week']),axis=1)"
   ]
  },
  {
   "cell_type": "markdown",
   "metadata": {},
   "source": [
    "### Number of weeks per year"
   ]
  },
  {
   "cell_type": "code",
   "execution_count": 12,
   "metadata": {},
   "outputs": [
    {
     "data": {
      "text/plain": [
       "year_num\n",
       "15       52\n",
       "16       52\n",
       "17       53\n",
       "18       52\n",
       "19       52\n",
       "20       10\n",
       "test_    10\n",
       "Name: week, dtype: int64"
      ]
     },
     "execution_count": 12,
     "metadata": {},
     "output_type": "execute_result"
    }
   ],
   "source": [
    "df.groupby(['year_num'])['week'].count()"
   ]
  },
  {
   "cell_type": "markdown",
   "metadata": {},
   "source": [
    "### Histogram of revenue by year"
   ]
  },
  {
   "cell_type": "code",
   "execution_count": 13,
   "metadata": {
    "scrolled": true
   },
   "outputs": [
    {
     "data": {
      "image/png": "[encoded data removed]",
      "text/plain": [
       "<Figure size 432x288 with 1 Axes>"
      ]
     },
     "metadata": {
      "needs_background": "light"
     },
     "output_type": "display_data"
    },
    {
     "data": {
      "image/png": "[encoded data removed]",
      "text/plain": [
       "<Figure size 432x288 with 1 Axes>"
      ]
     },
     "metadata": {
      "needs_background": "light"
     },
     "output_type": "display_data"
    },
    {
     "data": {
      "image/png": "[encoded data removed]",
      "text/plain": [
       "<Figure size 432x288 with 1 Axes>"
      ]
     },
     "metadata": {
      "needs_background": "light"
     },
     "output_type": "display_data"
    },
    {
     "data": {
      "image/png": "[encoded data removed]",
      "text/plain": [
       "<Figure size 432x288 with 1 Axes>"
      ]
     },
     "metadata": {
      "needs_background": "light"
     },
     "output_type": "display_data"
    },
    {
     "data": {
      "image/png": "[encoded data removed]",
      "text/plain": [
       "<Figure size 432x288 with 1 Axes>"
      ]
     },
     "metadata": {
      "needs_background": "light"
     },
     "output_type": "display_data"
    },
    {
     "data": {
      "image/png": "[encoded data removed]",
      "text/plain": [
       "<Figure size 432x288 with 1 Axes>"
      ]
     },
     "metadata": {
      "needs_background": "light"
     },
     "output_type": "display_data"
    }
   ],
   "source": [
    "\n",
    "for year, temp_df in df.groupby(['year_num']):\n",
    "    if year not in ['test_']:\n",
    "        plt.hist(temp_df.revenue)\n",
    "        plt.title(\"Year:\"+ year)\n",
    "        plt.show()"
   ]
  },
  {
   "cell_type": "code",
   "execution_count": 14,
   "metadata": {},
   "outputs": [],
   "source": [
    "piv_table = pd.pivot_table(df, values='revenue', index='week_num', columns='year_num', aggfunc='sum')\n",
    "piv_table.reset_index(inplace=True)\n",
    "piv_table.head()\n",
    "piv_table = piv_table.query(\"week_num!='W53'\")"
   ]
  },
  {
   "cell_type": "code",
   "execution_count": 15,
   "metadata": {},
   "outputs": [
    {
     "data": {
      "text/plain": [
       "Index(['week_num', '15', '16', '17', '18', '19', '20', 'test_'], dtype='object', name='year_num')"
      ]
     },
     "execution_count": 15,
     "metadata": {},
     "output_type": "execute_result"
    }
   ],
   "source": [
    "piv_table.columns"
   ]
  },
  {
   "cell_type": "code",
   "execution_count": 16,
   "metadata": {},
   "outputs": [
    {
     "data": {
      "text/plain": [
       "array(['15', '16', '17', '18', '19', '20', 'test_'], dtype=object)"
      ]
     },
     "execution_count": 16,
     "metadata": {},
     "output_type": "execute_result"
    }
   ],
   "source": [
    "df.year_num.unique()"
   ]
  },
  {
   "cell_type": "markdown",
   "metadata": {},
   "source": [
    "## Seasonality and trend analysis"
   ]
  },
  {
   "cell_type": "code",
   "execution_count": 17,
   "metadata": {},
   "outputs": [
    {
     "data": {
      "image/png": "[encoded data removed]",
      "text/plain": [
       "<Figure size 1008x360 with 1 Axes>"
      ]
     },
     "metadata": {
      "needs_background": "light"
     },
     "output_type": "display_data"
    }
   ],
   "source": [
    "# Plot 1: Trends\n",
    "plt.figure(figsize=(14,5))\n",
    "plt.plot(df.week,df.revenue)\n",
    "plt.xticks(rotation=90)\n",
    "plt.xlabel(\"Weeks\")\n",
    "plt.ylabel(\"Revenue\")\n",
    "plt.title(\"Revenue vs week Trend\")\n",
    "plt.show()"
   ]
  },
  {
   "cell_type": "markdown",
   "metadata": {},
   "source": [
    "#### A feeble increasing trend but not very clear - Sales seems to be flat year over year"
   ]
  },
  {
   "cell_type": "code",
   "execution_count": 18,
   "metadata": {},
   "outputs": [
    {
     "data": {
      "image/png": "[encoded data removed]",
      "text/plain": [
       "<Figure size 1008x360 with 1 Axes>"
      ]
     },
     "metadata": {
      "needs_background": "light"
     },
     "output_type": "display_data"
    }
   ],
   "source": [
    "# Plot 2: Seasonality\n",
    "\n",
    "years = []\n",
    "all_plots = []\n",
    "plt.figure(figsize=(14,5))\n",
    "\n",
    "plt_15, = plt.plot(piv_table['week_num'],piv_table['15'])\n",
    "plt_16, = plt.plot(piv_table['week_num'],piv_table['16'])\n",
    "plt_17, = plt.plot(piv_table['week_num'],piv_table['17'])\n",
    "plt_18, = plt.plot(piv_table['week_num'],piv_table['18'])\n",
    "plt_19, = plt.plot(piv_table['week_num'],piv_table['19'])\n",
    "\n",
    "    \n",
    "    \n",
    "plt.legend([plt_15,plt_16,plt_17,plt_18,plt_19],[f\"Year:{year}\" for year in range(15,20)])\n",
    "plt.xticks(rotation=90)\n",
    "plt.xlabel(\"Weeks\")\n",
    "plt.ylabel(\"Revenue\")\n",
    "plt.title(\"Revenue by years\")\n",
    "plt.show()"
   ]
  },
  {
   "cell_type": "markdown",
   "metadata": {},
   "source": [
    "## Analysis so far and next steps:"
   ]
  },
  {
   "cell_type": "markdown",
   "metadata": {},
   "source": [
    "    Basic analysis of the dataset. The dataset has 281 rows. The  weekly revenues are given from 15 through 19 years. For 20 year the data for only 10 weeks are given from W01 through W10. The objective is to predict for W11 through W20 for '20' year\n",
    "    \n",
    "    We have got 53 weeks in 17. We ignore the last week for this year for seasonality analysis. From the Seasanlity and trend analysis, we definitely see a seasonal pattern across weeks. The trend with years is not very visible from the plot\n",
    "    \n",
    "\n",
    "Next steps:\n",
    "    1. We will model the data using three models i.e. Arima, exponential smoothing and LSTM\n",
    "    2. Model selection strategy: Since the data is following seasonality and we need to predict for weeks 11 through 20 for year=20. We can split the data into training and validation to tune the model. The training dataset will be from 15 through 18 and first 10 weeks of 19. Validation will be from W11 through W20 of year=19. The advantage of doing it this way is that the error that we obtain for 19, similar errors are expected during the prediction of same weeks for year=20. Please note that the final model will be built\n",
    "    3. Model accuracy metric: \n",
    "        To select the best model: Mean absolute percentage error is calculated. We calculate the error percentage between predicted and actual value for W11 through W20 of year = 19 and do an average of that\n",
    "        To report error metric: Since, these are weekly data, the days in between can have a shift for different years considered. For example, the christmas can fall on first day of the week or last day of the week. If it falls on the first day, the sales are most probably going to happen in the previous week, but if it is falling on the last week, sales will be high during the current week. Hence, more accurate number to show to the business would be doing a sum of predicted revenue of validation dataset and actual revenue of validation dataset and calculating the error percentage which can be used for reporting"
   ]
  },
  {
   "cell_type": "markdown",
   "metadata": {},
   "source": [
    "### Scaling the revenue:\n",
    "\n",
    "    Since the revenue values are higher, we divide it by 100k. however we will preserve the decimals so we don't lose on the decimals part during training the model"
   ]
  },
  {
   "cell_type": "code",
   "execution_count": 19,
   "metadata": {},
   "outputs": [],
   "source": [
    "df['revenue'] = df['revenue']/100000"
   ]
  },
  {
   "cell_type": "code",
   "execution_count": 20,
   "metadata": {},
   "outputs": [
    {
     "data": {
      "text/html": [
       "<div>\n",
       "<style scoped>\n",
       "    .dataframe tbody tr th:only-of-type {\n",
       "        vertical-align: middle;\n",
       "    }\n",
       "\n",
       "    .dataframe tbody tr th {\n",
       "        vertical-align: top;\n",
       "    }\n",
       "\n",
       "    .dataframe thead th {\n",
       "        text-align: right;\n",
       "    }\n",
       "</style>\n",
       "<table border=\"1\" class=\"dataframe\">\n",
       "  <thead>\n",
       "    <tr style=\"text-align: right;\">\n",
       "      <th></th>\n",
       "      <th>week</th>\n",
       "      <th>revenue</th>\n",
       "      <th>year_num</th>\n",
       "      <th>week_num</th>\n",
       "    </tr>\n",
       "  </thead>\n",
       "  <tbody>\n",
       "    <tr>\n",
       "      <th>0</th>\n",
       "      <td>15-W01</td>\n",
       "      <td>9.956822</td>\n",
       "      <td>15</td>\n",
       "      <td>W01</td>\n",
       "    </tr>\n",
       "    <tr>\n",
       "      <th>1</th>\n",
       "      <td>15-W02</td>\n",
       "      <td>11.754698</td>\n",
       "      <td>15</td>\n",
       "      <td>W02</td>\n",
       "    </tr>\n",
       "    <tr>\n",
       "      <th>2</th>\n",
       "      <td>15-W03</td>\n",
       "      <td>14.067001</td>\n",
       "      <td>15</td>\n",
       "      <td>W03</td>\n",
       "    </tr>\n",
       "    <tr>\n",
       "      <th>3</th>\n",
       "      <td>15-W04</td>\n",
       "      <td>10.425565</td>\n",
       "      <td>15</td>\n",
       "      <td>W04</td>\n",
       "    </tr>\n",
       "    <tr>\n",
       "      <th>4</th>\n",
       "      <td>15-W05</td>\n",
       "      <td>12.680131</td>\n",
       "      <td>15</td>\n",
       "      <td>W05</td>\n",
       "    </tr>\n",
       "    <tr>\n",
       "      <th>5</th>\n",
       "      <td>15-W06</td>\n",
       "      <td>11.553864</td>\n",
       "      <td>15</td>\n",
       "      <td>W06</td>\n",
       "    </tr>\n",
       "    <tr>\n",
       "      <th>6</th>\n",
       "      <td>15-W07</td>\n",
       "      <td>13.238538</td>\n",
       "      <td>15</td>\n",
       "      <td>W07</td>\n",
       "    </tr>\n",
       "    <tr>\n",
       "      <th>7</th>\n",
       "      <td>15-W08</td>\n",
       "      <td>14.976529</td>\n",
       "      <td>15</td>\n",
       "      <td>W08</td>\n",
       "    </tr>\n",
       "    <tr>\n",
       "      <th>8</th>\n",
       "      <td>15-W09</td>\n",
       "      <td>15.515307</td>\n",
       "      <td>15</td>\n",
       "      <td>W09</td>\n",
       "    </tr>\n",
       "    <tr>\n",
       "      <th>9</th>\n",
       "      <td>15-W10</td>\n",
       "      <td>16.083553</td>\n",
       "      <td>15</td>\n",
       "      <td>W10</td>\n",
       "    </tr>\n",
       "    <tr>\n",
       "      <th>10</th>\n",
       "      <td>15-W11</td>\n",
       "      <td>15.110755</td>\n",
       "      <td>15</td>\n",
       "      <td>W11</td>\n",
       "    </tr>\n",
       "    <tr>\n",
       "      <th>11</th>\n",
       "      <td>15-W12</td>\n",
       "      <td>15.864687</td>\n",
       "      <td>15</td>\n",
       "      <td>W12</td>\n",
       "    </tr>\n",
       "    <tr>\n",
       "      <th>12</th>\n",
       "      <td>15-W13</td>\n",
       "      <td>18.882355</td>\n",
       "      <td>15</td>\n",
       "      <td>W13</td>\n",
       "    </tr>\n",
       "    <tr>\n",
       "      <th>13</th>\n",
       "      <td>15-W14</td>\n",
       "      <td>20.530616</td>\n",
       "      <td>15</td>\n",
       "      <td>W14</td>\n",
       "    </tr>\n",
       "    <tr>\n",
       "      <th>14</th>\n",
       "      <td>15-W15</td>\n",
       "      <td>21.077519</td>\n",
       "      <td>15</td>\n",
       "      <td>W15</td>\n",
       "    </tr>\n",
       "    <tr>\n",
       "      <th>15</th>\n",
       "      <td>15-W16</td>\n",
       "      <td>19.805116</td>\n",
       "      <td>15</td>\n",
       "      <td>W16</td>\n",
       "    </tr>\n",
       "    <tr>\n",
       "      <th>16</th>\n",
       "      <td>15-W17</td>\n",
       "      <td>20.927860</td>\n",
       "      <td>15</td>\n",
       "      <td>W17</td>\n",
       "    </tr>\n",
       "    <tr>\n",
       "      <th>17</th>\n",
       "      <td>15-W18</td>\n",
       "      <td>18.851975</td>\n",
       "      <td>15</td>\n",
       "      <td>W18</td>\n",
       "    </tr>\n",
       "    <tr>\n",
       "      <th>18</th>\n",
       "      <td>15-W19</td>\n",
       "      <td>21.753791</td>\n",
       "      <td>15</td>\n",
       "      <td>W19</td>\n",
       "    </tr>\n",
       "    <tr>\n",
       "      <th>19</th>\n",
       "      <td>15-W20</td>\n",
       "      <td>19.717154</td>\n",
       "      <td>15</td>\n",
       "      <td>W20</td>\n",
       "    </tr>\n",
       "  </tbody>\n",
       "</table>\n",
       "</div>"
      ],
      "text/plain": [
       "      week    revenue year_num week_num\n",
       "0   15-W01   9.956822       15      W01\n",
       "1   15-W02  11.754698       15      W02\n",
       "2   15-W03  14.067001       15      W03\n",
       "3   15-W04  10.425565       15      W04\n",
       "4   15-W05  12.680131       15      W05\n",
       "5   15-W06  11.553864       15      W06\n",
       "6   15-W07  13.238538       15      W07\n",
       "7   15-W08  14.976529       15      W08\n",
       "8   15-W09  15.515307       15      W09\n",
       "9   15-W10  16.083553       15      W10\n",
       "10  15-W11  15.110755       15      W11\n",
       "11  15-W12  15.864687       15      W12\n",
       "12  15-W13  18.882355       15      W13\n",
       "13  15-W14  20.530616       15      W14\n",
       "14  15-W15  21.077519       15      W15\n",
       "15  15-W16  19.805116       15      W16\n",
       "16  15-W17  20.927860       15      W17\n",
       "17  15-W18  18.851975       15      W18\n",
       "18  15-W19  21.753791       15      W19\n",
       "19  15-W20  19.717154       15      W20"
      ]
     },
     "execution_count": 20,
     "metadata": {},
     "output_type": "execute_result"
    }
   ],
   "source": [
    "df.head(20)"
   ]
  },
  {
   "cell_type": "code",
   "execution_count": 21,
   "metadata": {},
   "outputs": [
    {
     "data": {
      "text/plain": [
       "count    271.000000\n",
       "mean      14.531140\n",
       "std        4.356253\n",
       "min        3.341297\n",
       "25%       11.529589\n",
       "50%       13.889889\n",
       "75%       16.885645\n",
       "max       32.263649\n",
       "Name: revenue, dtype: float64"
      ]
     },
     "execution_count": 21,
     "metadata": {},
     "output_type": "execute_result"
    }
   ],
   "source": [
    "df['revenue'].describe()"
   ]
  },
  {
   "cell_type": "markdown",
   "metadata": {},
   "source": [
    "### Splitting into training and validation"
   ]
  },
  {
   "cell_type": "code",
   "execution_count": 22,
   "metadata": {},
   "outputs": [],
   "source": [
    "\n",
    "\n",
    "training = df.query(\"week<='19-W10'\")\n",
    "#training.index = training.week\n",
    "validation = df.query(\"week>='19-W11' and week<= '19-W20'\")\n",
    "#validation.index = validation.week"
   ]
  },
  {
   "cell_type": "code",
   "execution_count": 23,
   "metadata": {},
   "outputs": [
    {
     "data": {
      "text/plain": [
       "year_num\n",
       "15    52\n",
       "16    52\n",
       "17    53\n",
       "18    52\n",
       "19    10\n",
       "Name: week, dtype: int64"
      ]
     },
     "execution_count": 23,
     "metadata": {},
     "output_type": "execute_result"
    }
   ],
   "source": [
    "training.groupby('year_num')['week'].count()"
   ]
  },
  {
   "cell_type": "code",
   "execution_count": 24,
   "metadata": {},
   "outputs": [
    {
     "data": {
      "text/plain": [
       "year_num\n",
       "19    10\n",
       "Name: week, dtype: int64"
      ]
     },
     "execution_count": 24,
     "metadata": {},
     "output_type": "execute_result"
    }
   ],
   "source": [
    "validation.groupby('year_num')['week'].count()"
   ]
  },
  {
   "cell_type": "markdown",
   "metadata": {},
   "source": [
    "# Model 1: Autoregressive integrate Moving average model(ARIMA) "
   ]
  },
  {
   "cell_type": "code",
   "execution_count": 25,
   "metadata": {},
   "outputs": [],
   "source": [
    "training_y  = list(training.revenue)\n",
    "validation_y = list(validation.revenue)"
   ]
  },
  {
   "cell_type": "code",
   "execution_count": 26,
   "metadata": {},
   "outputs": [],
   "source": [
    "from statsmodels.tsa.arima_model import ARIMA\n",
    "from sklearn.metrics import mean_squared_error\n",
    "import numpy as np"
   ]
  },
  {
   "cell_type": "code",
   "execution_count": 27,
   "metadata": {},
   "outputs": [],
   "source": [
    "# Calculating errors on validation\n",
    "training_for_pred = training_y.copy()\n",
    "\n",
    "pred = []\n",
    "\n",
    "for i in range(len(validation)):\n",
    "    model = ARIMA(training_for_pred, order=(4,1,0))\n",
    "    model_fit = model.fit(disp=0)\n",
    "    output = model_fit.forecast()[0][0]\n",
    "    pred.append(output)\n",
    "    training_for_pred.append(output)"
   ]
  },
  {
   "cell_type": "code",
   "execution_count": 28,
   "metadata": {},
   "outputs": [],
   "source": [
    "def mean_absolute_percentage_error(y_true, y_pred): \n",
    "    y_true, y_pred = np.array(y_true), np.array(y_pred)\n",
    "    return np.mean(np.abs((y_true - y_pred) / y_true)) * 100"
   ]
  },
  {
   "cell_type": "code",
   "execution_count": 29,
   "metadata": {},
   "outputs": [
    {
     "name": "stdout",
     "output_type": "stream",
     "text": [
      "15.614991450978009\n"
     ]
    }
   ],
   "source": [
    "error = mean_absolute_percentage_error(validation_y, pred)\n",
    "print(error)"
   ]
  },
  {
   "cell_type": "code",
   "execution_count": 30,
   "metadata": {},
   "outputs": [
    {
     "data": {
      "image/png": "[encoded data removed]",
      "text/plain": [
       "<Figure size 432x288 with 1 Axes>"
      ]
     },
     "metadata": {
      "needs_background": "light"
     },
     "output_type": "display_data"
    }
   ],
   "source": [
    "plot1, = plt.plot(validation['week'],validation['revenue'])\n",
    "plot2, = plt.plot(validation['week'],pred)\n",
    "\n",
    "\n",
    "    \n",
    "plt.legend([plot1,plot2],['Actual','Predicted'])\n",
    "plt.xticks(rotation=90)\n",
    "plt.xlabel(\"Weeks\")\n",
    "plt.ylabel(\"Revenue\")\n",
    "plt.title(\"ARIMA : Actual vs. predicted\")\n",
    "plt.show()\n"
   ]
  },
  {
   "cell_type": "markdown",
   "metadata": {},
   "source": [
    "# Model 2: Exponential Smoothing"
   ]
  },
  {
   "cell_type": "code",
   "execution_count": 31,
   "metadata": {},
   "outputs": [],
   "source": [
    "import multiprocessing as mp\n",
    "import operator\n",
    "from itertools import product\n",
    "from joblib import Parallel, delayed\n",
    "from statsmodels.tsa.holtwinters import ExponentialSmoothing\n"
   ]
  },
  {
   "cell_type": "code",
   "execution_count": 32,
   "metadata": {},
   "outputs": [],
   "source": [
    "GRID_PARAMS = {\n",
    "    'seasonal':['add'],\n",
    "    'seasonal_periods': [52],\n",
    "    'use_boxcox': [True, False],\n",
    "    'remove_bias': [True, False]  # Updated from 'seed'\n",
    "}\n",
    "\n",
    "\n",
    "KEYS = list(GRID_PARAMS) "
   ]
  },
  {
   "cell_type": "code",
   "execution_count": 33,
   "metadata": {},
   "outputs": [],
   "source": [
    "def calc_errors_config(training_y, validation_y, a_grid_comb):\n",
    "    config_dict = dict(zip(KEYS, a_grid_comb))\n",
    "    training_for_pred = training_y.copy()\n",
    "    \n",
    "    pred = []\n",
    "    for i in range(len(validation_y)):\n",
    "         \n",
    "        # define model model\n",
    "        data=pd.Series(training_for_pred)\n",
    "        model = ExponentialSmoothing(training_for_pred, trend = None,\n",
    "                                     seasonal=config_dict['seasonal'], seasonal_periods=config_dict['seasonal_periods'])\n",
    "        # fit model\n",
    "        model_fit = model.fit(optimized=True, use_boxcox=config_dict['use_boxcox'], remove_bias=config_dict['remove_bias'])\n",
    "        # make one step forecast\n",
    "        output = model_fit.forecast()[0]\n",
    "        pred.append(output)\n",
    "        training_for_pred.append(output)  \n",
    "    \n",
    "    error = mean_absolute_percentage_error(validation_y, pred)\n",
    "    config_dict['mape'] = error\n",
    "    return config_dict"
   ]
  },
  {
   "cell_type": "code",
   "execution_count": 34,
   "metadata": {},
   "outputs": [],
   "source": [
    "n_cores = mp.cpu_count() - 4\n",
    "\n",
    "results_list = []\n",
    "results_list = Parallel(n_jobs=n_cores)(delayed(calc_errors_config)(training_y,validation_y,a_grid_comb)\n",
    "                                                    for a_grid_comb in product(*map(GRID_PARAMS.get, KEYS)))\n",
    "\n",
    "error_df = pd.DataFrame.from_dict(results_list, orient='columns')"
   ]
  },
  {
   "cell_type": "code",
   "execution_count": 35,
   "metadata": {},
   "outputs": [
    {
     "data": {
      "text/plain": [
       "{'mape': 12.461313142750438,\n",
       " 'remove_bias': False,\n",
       " 'seasonal': 'add',\n",
       " 'seasonal_periods': 52,\n",
       " 'use_boxcox': False}"
      ]
     },
     "execution_count": 35,
     "metadata": {},
     "output_type": "execute_result"
    }
   ],
   "source": [
    "config_dict = error_df.sort_values('mape').iloc[0].to_dict()\n",
    "config_dict"
   ]
  },
  {
   "cell_type": "code",
   "execution_count": 36,
   "metadata": {},
   "outputs": [
    {
     "data": {
      "image/png": "[encoded data removed]",
      "text/plain": [
       "<Figure size 432x288 with 1 Axes>"
      ]
     },
     "metadata": {
      "needs_background": "light"
     },
     "output_type": "display_data"
    }
   ],
   "source": [
    "training_for_pred = training_y.copy()\n",
    "\n",
    "pred = []\n",
    "for i in range(len(validation_y)):\n",
    "\n",
    "    # define model model\n",
    "    model = ExponentialSmoothing(training_for_pred,trend = None,\n",
    "                                     seasonal=config_dict['seasonal'], seasonal_periods=config_dict['seasonal_periods'])\n",
    "    # fit model\n",
    "    model_fit = model.fit(optimized=True, use_boxcox=config_dict['use_boxcox'], remove_bias=config_dict['remove_bias'])\n",
    "    # make one step forecast\n",
    "    output = model_fit.forecast()[0]\n",
    "    pred.append(output)\n",
    "    training_for_pred.append(output) \n",
    "\n",
    "plot1, = plt.plot(validation['week'],validation['revenue'])\n",
    "plot2, = plt.plot(validation['week'],pred)\n",
    "\n",
    "\n",
    "    \n",
    "plt.legend([plot1,plot2],['Actual','Predicted'])\n",
    "plt.xticks(rotation=90)\n",
    "plt.xlabel(\"Weeks\")\n",
    "plt.ylabel(\"Revenue\")\n",
    "plt.title(\"Exponential Smoothing : Actual vs. predicted\")\n",
    "plt.show()"
   ]
  },
  {
   "cell_type": "code",
   "execution_count": 37,
   "metadata": {},
   "outputs": [
    {
     "name": "stdout",
     "output_type": "stream",
     "text": [
      "12.461313142750438\n"
     ]
    }
   ],
   "source": [
    "error = mean_absolute_percentage_error(validation_y, pred)\n",
    "print(error)"
   ]
  },
  {
   "cell_type": "markdown",
   "metadata": {},
   "source": [
    "# Model 3: Long Short Term Memory(LSTM)"
   ]
  },
  {
   "cell_type": "markdown",
   "metadata": {},
   "source": [
    "### Data Preparation for LSTM deep learning model"
   ]
  },
  {
   "cell_type": "code",
   "execution_count": 38,
   "metadata": {},
   "outputs": [],
   "source": [
    "training_y_copy = training_y.copy()"
   ]
  },
  {
   "cell_type": "code",
   "execution_count": 39,
   "metadata": {},
   "outputs": [],
   "source": [
    "from sklearn.preprocessing import MinMaxScaler\n",
    "sc = MinMaxScaler(feature_range = (0, 1))\n",
    "training_set_scaled = sc.fit_transform(np.array(training_y).reshape(len(training_y),1))"
   ]
  },
  {
   "cell_type": "code",
   "execution_count": 40,
   "metadata": {},
   "outputs": [],
   "source": [
    "validation_scaled = sc.transform(np.array(validation_y).reshape(len(validation_y),1))"
   ]
  },
  {
   "cell_type": "code",
   "execution_count": 41,
   "metadata": {},
   "outputs": [],
   "source": [
    "time_steps = 52\n",
    "\n",
    "X_train = []\n",
    "y_train = []\n",
    "for i in range(time_steps, len(training_set_scaled)):\n",
    "    X_train.append(training_set_scaled[i-time_steps:i,0])\n",
    "    y_train.append(training_set_scaled[i,0])\n",
    "X_train, y_train = np.array(X_train), np.array(y_train)\n",
    "\n",
    "X_train = np.reshape(X_train, (X_train.shape[0], X_train.shape[1], 1))"
   ]
  },
  {
   "cell_type": "code",
   "execution_count": 42,
   "metadata": {},
   "outputs": [
    {
     "name": "stderr",
     "output_type": "stream",
     "text": [
      "Using TensorFlow backend.\n"
     ]
    }
   ],
   "source": [
    "from keras.models import Sequential\n",
    "from keras.layers import Dense,LSTM,Dropout\n"
   ]
  },
  {
   "cell_type": "code",
   "execution_count": 43,
   "metadata": {},
   "outputs": [
    {
     "name": "stdout",
     "output_type": "stream",
     "text": [
      "WARNING:tensorflow:From C:\\Users\\adarak\\AppData\\Local\\Continuum\\anaconda3\\lib\\site-packages\\keras\\backend\\tensorflow_backend.py:422: The name tf.global_variables is deprecated. Please use tf.compat.v1.global_variables instead.\n",
      "\n",
      "Train on 133 samples, validate on 34 samples\n",
      "Epoch 1/200\n",
      "133/133 [==============================] - 1s 5ms/step - loss: 0.0795 - val_loss: 0.0248\n",
      "Epoch 2/200\n",
      "133/133 [==============================] - 0s 1ms/step - loss: 0.0332 - val_loss: 0.0148\n",
      "Epoch 3/200\n",
      "133/133 [==============================] - 0s 1ms/step - loss: 0.0246 - val_loss: 0.0130\n",
      "Epoch 4/200\n",
      "133/133 [==============================] - 0s 1ms/step - loss: 0.0235 - val_loss: 0.0141\n",
      "Epoch 5/200\n",
      "133/133 [==============================] - 0s 1ms/step - loss: 0.0225 - val_loss: 0.0144\n",
      "Epoch 6/200\n",
      "133/133 [==============================] - 0s 1ms/step - loss: 0.0219 - val_loss: 0.0123\n",
      "Epoch 7/200\n",
      "133/133 [==============================] - 0s 1ms/step - loss: 0.0206 - val_loss: 0.0122\n",
      "Epoch 8/200\n",
      "133/133 [==============================] - 0s 1ms/step - loss: 0.0199 - val_loss: 0.0121\n",
      "Epoch 9/200\n",
      "133/133 [==============================] - 0s 1ms/step - loss: 0.0191 - val_loss: 0.0114\n",
      "Epoch 10/200\n",
      "133/133 [==============================] - 0s 1ms/step - loss: 0.0181 - val_loss: 0.0113\n",
      "Epoch 11/200\n",
      "133/133 [==============================] - 0s 1ms/step - loss: 0.0180 - val_loss: 0.0111\n",
      "Epoch 12/200\n",
      "133/133 [==============================] - 0s 1ms/step - loss: 0.0169 - val_loss: 0.0111\n",
      "Epoch 13/200\n",
      "133/133 [==============================] - 0s 1ms/step - loss: 0.0175 - val_loss: 0.0112\n",
      "Epoch 14/200\n",
      "133/133 [==============================] - 0s 1ms/step - loss: 0.0174 - val_loss: 0.0112\n",
      "Epoch 15/200\n",
      "133/133 [==============================] - 0s 1ms/step - loss: 0.0164 - val_loss: 0.0118\n",
      "Epoch 16/200\n",
      "133/133 [==============================] - 0s 1ms/step - loss: 0.0161 - val_loss: 0.0114\n",
      "Epoch 17/200\n",
      "133/133 [==============================] - 0s 1ms/step - loss: 0.0163 - val_loss: 0.0119\n",
      "Epoch 18/200\n",
      "133/133 [==============================] - 0s 1ms/step - loss: 0.0161 - val_loss: 0.0112\n",
      "Epoch 19/200\n",
      "133/133 [==============================] - 0s 1ms/step - loss: 0.0158 - val_loss: 0.0113\n",
      "Epoch 20/200\n",
      "133/133 [==============================] - 0s 1ms/step - loss: 0.0164 - val_loss: 0.0112\n",
      "Epoch 21/200\n",
      "133/133 [==============================] - 0s 1ms/step - loss: 0.0156 - val_loss: 0.0113\n",
      "Epoch 22/200\n",
      "133/133 [==============================] - 0s 1ms/step - loss: 0.0154 - val_loss: 0.0111\n",
      "Epoch 23/200\n",
      "133/133 [==============================] - 0s 1ms/step - loss: 0.0152 - val_loss: 0.0111\n",
      "Epoch 24/200\n",
      "133/133 [==============================] - 0s 1ms/step - loss: 0.0158 - val_loss: 0.0110\n",
      "Epoch 25/200\n",
      "133/133 [==============================] - 0s 1ms/step - loss: 0.0156 - val_loss: 0.0109\n",
      "Epoch 26/200\n",
      "133/133 [==============================] - 0s 1ms/step - loss: 0.0153 - val_loss: 0.0109\n",
      "Epoch 27/200\n",
      "133/133 [==============================] - 0s 1ms/step - loss: 0.0151 - val_loss: 0.0120\n",
      "Epoch 28/200\n",
      "133/133 [==============================] - 0s 1ms/step - loss: 0.0158 - val_loss: 0.0111\n",
      "Epoch 29/200\n",
      "133/133 [==============================] - 0s 1ms/step - loss: 0.0163 - val_loss: 0.0132\n",
      "Epoch 30/200\n",
      "133/133 [==============================] - 0s 1ms/step - loss: 0.0155 - val_loss: 0.0114\n",
      "Epoch 31/200\n",
      "133/133 [==============================] - 0s 1ms/step - loss: 0.0159 - val_loss: 0.0110\n",
      "Epoch 32/200\n",
      "133/133 [==============================] - 0s 1ms/step - loss: 0.0151 - val_loss: 0.0107\n",
      "Epoch 33/200\n",
      "133/133 [==============================] - 0s 1ms/step - loss: 0.0149 - val_loss: 0.0112\n",
      "Epoch 34/200\n",
      "133/133 [==============================] - 0s 1ms/step - loss: 0.0147 - val_loss: 0.0107\n",
      "Epoch 35/200\n",
      "133/133 [==============================] - 0s 1ms/step - loss: 0.0151 - val_loss: 0.0145\n",
      "Epoch 36/200\n",
      "133/133 [==============================] - 0s 1ms/step - loss: 0.0159 - val_loss: 0.0113\n",
      "Epoch 37/200\n",
      "133/133 [==============================] - 0s 1ms/step - loss: 0.0167 - val_loss: 0.0111\n",
      "Epoch 38/200\n",
      "133/133 [==============================] - 0s 1ms/step - loss: 0.0152 - val_loss: 0.0106\n",
      "Epoch 39/200\n",
      "133/133 [==============================] - 0s 1ms/step - loss: 0.0151 - val_loss: 0.0108\n",
      "Epoch 40/200\n",
      "133/133 [==============================] - 0s 1ms/step - loss: 0.0148 - val_loss: 0.0119\n",
      "Epoch 41/200\n",
      "133/133 [==============================] - 0s 1ms/step - loss: 0.0149 - val_loss: 0.0106\n",
      "Epoch 42/200\n",
      "133/133 [==============================] - 0s 1ms/step - loss: 0.0149 - val_loss: 0.0116\n",
      "Epoch 43/200\n",
      "133/133 [==============================] - 0s 1ms/step - loss: 0.0145 - val_loss: 0.0105\n",
      "Epoch 44/200\n",
      "133/133 [==============================] - 0s 1ms/step - loss: 0.0146 - val_loss: 0.0119\n",
      "Epoch 45/200\n",
      "133/133 [==============================] - 0s 1ms/step - loss: 0.0144 - val_loss: 0.0104\n",
      "Epoch 46/200\n",
      "133/133 [==============================] - 0s 1ms/step - loss: 0.0150 - val_loss: 0.0106\n",
      "Epoch 47/200\n",
      "133/133 [==============================] - 0s 1ms/step - loss: 0.0148 - val_loss: 0.0109\n",
      "Epoch 48/200\n",
      "133/133 [==============================] - 0s 1ms/step - loss: 0.0147 - val_loss: 0.0103\n",
      "Epoch 49/200\n",
      "133/133 [==============================] - 0s 1ms/step - loss: 0.0145 - val_loss: 0.0104\n",
      "Epoch 50/200\n",
      "133/133 [==============================] - 0s 1ms/step - loss: 0.0149 - val_loss: 0.0103\n",
      "Epoch 51/200\n",
      "133/133 [==============================] - 0s 1ms/step - loss: 0.0141 - val_loss: 0.0101\n",
      "Epoch 52/200\n",
      "133/133 [==============================] - 0s 1ms/step - loss: 0.0137 - val_loss: 0.0120\n",
      "Epoch 53/200\n",
      "133/133 [==============================] - 0s 1ms/step - loss: 0.0140 - val_loss: 0.0105\n",
      "Epoch 54/200\n",
      "133/133 [==============================] - 0s 1ms/step - loss: 0.0141 - val_loss: 0.0099\n",
      "Epoch 55/200\n",
      "133/133 [==============================] - 0s 1ms/step - loss: 0.0139 - val_loss: 0.0099\n",
      "Epoch 56/200\n",
      "133/133 [==============================] - 0s 1ms/step - loss: 0.0135 - val_loss: 0.0108\n",
      "Epoch 57/200\n",
      "133/133 [==============================] - 0s 1ms/step - loss: 0.0134 - val_loss: 0.0098\n",
      "Epoch 58/200\n",
      "133/133 [==============================] - 0s 1ms/step - loss: 0.0134 - val_loss: 0.0100\n",
      "Epoch 59/200\n",
      "133/133 [==============================] - 0s 1ms/step - loss: 0.0133 - val_loss: 0.0094\n",
      "Epoch 60/200\n",
      "133/133 [==============================] - 0s 1ms/step - loss: 0.0137 - val_loss: 0.0096\n",
      "Epoch 61/200\n",
      "133/133 [==============================] - 0s 1ms/step - loss: 0.0132 - val_loss: 0.0098\n",
      "Epoch 62/200\n",
      "133/133 [==============================] - 0s 1ms/step - loss: 0.0135 - val_loss: 0.0104\n",
      "Epoch 63/200\n",
      "133/133 [==============================] - 0s 1ms/step - loss: 0.0139 - val_loss: 0.0097\n",
      "Epoch 64/200\n",
      "133/133 [==============================] - 0s 1ms/step - loss: 0.0140 - val_loss: 0.0096\n",
      "Epoch 65/200\n",
      "133/133 [==============================] - 0s 1ms/step - loss: 0.0132 - val_loss: 0.0098\n",
      "Epoch 66/200\n",
      "133/133 [==============================] - 0s 1ms/step - loss: 0.0134 - val_loss: 0.0103\n",
      "Epoch 67/200\n",
      "133/133 [==============================] - 0s 1ms/step - loss: 0.0134 - val_loss: 0.0099\n",
      "Epoch 68/200\n",
      "133/133 [==============================] - 0s 1ms/step - loss: 0.0133 - val_loss: 0.0095\n",
      "Epoch 69/200\n",
      "133/133 [==============================] - 0s 1ms/step - loss: 0.0131 - val_loss: 0.0098\n",
      "Epoch 70/200\n",
      "133/133 [==============================] - 0s 1ms/step - loss: 0.0130 - val_loss: 0.0093\n",
      "Epoch 71/200\n",
      "133/133 [==============================] - 0s 1ms/step - loss: 0.0133 - val_loss: 0.0108\n",
      "Epoch 72/200\n",
      "133/133 [==============================] - 0s 1ms/step - loss: 0.0131 - val_loss: 0.0092\n",
      "Epoch 73/200\n",
      "133/133 [==============================] - 0s 1ms/step - loss: 0.0134 - val_loss: 0.0094\n",
      "Epoch 74/200\n",
      "133/133 [==============================] - 0s 1ms/step - loss: 0.0131 - val_loss: 0.0100\n",
      "Epoch 75/200\n",
      "133/133 [==============================] - 0s 1ms/step - loss: 0.0133 - val_loss: 0.0102\n",
      "Epoch 76/200\n",
      "133/133 [==============================] - 0s 1ms/step - loss: 0.0130 - val_loss: 0.0098\n",
      "Epoch 77/200\n",
      "133/133 [==============================] - 0s 1ms/step - loss: 0.0130 - val_loss: 0.0092\n",
      "Epoch 78/200\n"
     ]
    },
    {
     "name": "stdout",
     "output_type": "stream",
     "text": [
      "133/133 [==============================] - 0s 1ms/step - loss: 0.0130 - val_loss: 0.0093\n",
      "Epoch 79/200\n",
      "133/133 [==============================] - 0s 1ms/step - loss: 0.0129 - val_loss: 0.0098\n",
      "Epoch 80/200\n",
      "133/133 [==============================] - 0s 1ms/step - loss: 0.0133 - val_loss: 0.0094\n",
      "Epoch 81/200\n",
      "133/133 [==============================] - 0s 1ms/step - loss: 0.0127 - val_loss: 0.0095\n",
      "Epoch 82/200\n",
      "133/133 [==============================] - 0s 1ms/step - loss: 0.0133 - val_loss: 0.0109\n",
      "Epoch 83/200\n",
      "133/133 [==============================] - 0s 1ms/step - loss: 0.0128 - val_loss: 0.0094\n",
      "Epoch 84/200\n",
      "133/133 [==============================] - 0s 1ms/step - loss: 0.0130 - val_loss: 0.0091\n",
      "Epoch 85/200\n",
      "133/133 [==============================] - 0s 1ms/step - loss: 0.0125 - val_loss: 0.0105\n",
      "Epoch 86/200\n",
      "133/133 [==============================] - 0s 1ms/step - loss: 0.0130 - val_loss: 0.0095\n",
      "Epoch 87/200\n",
      "133/133 [==============================] - 0s 1ms/step - loss: 0.0129 - val_loss: 0.0091\n",
      "Epoch 88/200\n",
      "133/133 [==============================] - 0s 1ms/step - loss: 0.0131 - val_loss: 0.0103\n",
      "Epoch 89/200\n",
      "133/133 [==============================] - 0s 1ms/step - loss: 0.0131 - val_loss: 0.0095\n",
      "Epoch 90/200\n",
      "133/133 [==============================] - 0s 1ms/step - loss: 0.0125 - val_loss: 0.0097\n",
      "Epoch 91/200\n",
      "133/133 [==============================] - 0s 1ms/step - loss: 0.0129 - val_loss: 0.0100\n",
      "Epoch 92/200\n",
      "133/133 [==============================] - 0s 1ms/step - loss: 0.0123 - val_loss: 0.0090\n",
      "Epoch 93/200\n",
      "133/133 [==============================] - 0s 1ms/step - loss: 0.0128 - val_loss: 0.0092\n",
      "Epoch 94/200\n",
      "133/133 [==============================] - 0s 1ms/step - loss: 0.0126 - val_loss: 0.0091\n",
      "Epoch 95/200\n",
      "133/133 [==============================] - 0s 1ms/step - loss: 0.0131 - val_loss: 0.0095\n",
      "Epoch 96/200\n",
      "133/133 [==============================] - 0s 1ms/step - loss: 0.0134 - val_loss: 0.0096\n",
      "Epoch 97/200\n",
      "133/133 [==============================] - 0s 1ms/step - loss: 0.0127 - val_loss: 0.0098\n",
      "Epoch 98/200\n",
      "133/133 [==============================] - 0s 1ms/step - loss: 0.0133 - val_loss: 0.0093\n",
      "Epoch 99/200\n",
      "133/133 [==============================] - 0s 1ms/step - loss: 0.0127 - val_loss: 0.0095\n",
      "Epoch 100/200\n",
      "133/133 [==============================] - 0s 1ms/step - loss: 0.0127 - val_loss: 0.0097\n",
      "Epoch 101/200\n",
      "133/133 [==============================] - 0s 1ms/step - loss: 0.0127 - val_loss: 0.0094\n",
      "Epoch 102/200\n",
      "133/133 [==============================] - 0s 1ms/step - loss: 0.0125 - val_loss: 0.0096\n",
      "Epoch 103/200\n",
      "133/133 [==============================] - 0s 1ms/step - loss: 0.0129 - val_loss: 0.0093\n",
      "Epoch 104/200\n",
      "133/133 [==============================] - 0s 1ms/step - loss: 0.0132 - val_loss: 0.0094\n",
      "Epoch 105/200\n",
      "133/133 [==============================] - 0s 1ms/step - loss: 0.0128 - val_loss: 0.0096\n",
      "Epoch 106/200\n",
      "133/133 [==============================] - 0s 1ms/step - loss: 0.0128 - val_loss: 0.0093\n",
      "Epoch 107/200\n",
      "133/133 [==============================] - 0s 1ms/step - loss: 0.0137 - val_loss: 0.0099\n",
      "Epoch 108/200\n",
      "133/133 [==============================] - 0s 1ms/step - loss: 0.0130 - val_loss: 0.0094\n",
      "Epoch 109/200\n",
      "133/133 [==============================] - 0s 1ms/step - loss: 0.0125 - val_loss: 0.0096\n",
      "Epoch 110/200\n",
      "133/133 [==============================] - 0s 1ms/step - loss: 0.0124 - val_loss: 0.0094\n",
      "Epoch 111/200\n",
      "133/133 [==============================] - 0s 1ms/step - loss: 0.0122 - val_loss: 0.0094\n",
      "Epoch 112/200\n",
      "133/133 [==============================] - 0s 1ms/step - loss: 0.0126 - val_loss: 0.0098\n",
      "Epoch 113/200\n",
      "133/133 [==============================] - 0s 1ms/step - loss: 0.0127 - val_loss: 0.0092\n",
      "Epoch 114/200\n",
      "133/133 [==============================] - 0s 1ms/step - loss: 0.0134 - val_loss: 0.0093\n",
      "Epoch 115/200\n",
      "133/133 [==============================] - 0s 1ms/step - loss: 0.0127 - val_loss: 0.0102\n",
      "Epoch 116/200\n",
      "133/133 [==============================] - 0s 1ms/step - loss: 0.0123 - val_loss: 0.0092\n",
      "Epoch 117/200\n",
      "133/133 [==============================] - 0s 1ms/step - loss: 0.0125 - val_loss: 0.0092\n",
      "Epoch 118/200\n",
      "133/133 [==============================] - 0s 1ms/step - loss: 0.0122 - val_loss: 0.0097\n",
      "Epoch 119/200\n",
      "133/133 [==============================] - 0s 1ms/step - loss: 0.0119 - val_loss: 0.0097\n",
      "Epoch 120/200\n",
      "133/133 [==============================] - 0s 1ms/step - loss: 0.0127 - val_loss: 0.0092\n",
      "Epoch 121/200\n",
      "133/133 [==============================] - 0s 1ms/step - loss: 0.0134 - val_loss: 0.0101\n",
      "Epoch 122/200\n",
      "133/133 [==============================] - 0s 1ms/step - loss: 0.0136 - val_loss: 0.0093\n",
      "Epoch 123/200\n",
      "133/133 [==============================] - 0s 1ms/step - loss: 0.0121 - val_loss: 0.0094\n",
      "Epoch 124/200\n",
      "133/133 [==============================] - 0s 1ms/step - loss: 0.0126 - val_loss: 0.0091\n",
      "Epoch 125/200\n",
      "133/133 [==============================] - 0s 1ms/step - loss: 0.0129 - val_loss: 0.0097\n",
      "Epoch 126/200\n",
      "133/133 [==============================] - 0s 1ms/step - loss: 0.0125 - val_loss: 0.0093\n",
      "Epoch 127/200\n",
      "133/133 [==============================] - 0s 1ms/step - loss: 0.0127 - val_loss: 0.0093\n",
      "Epoch 128/200\n",
      "133/133 [==============================] - 0s 1ms/step - loss: 0.0124 - val_loss: 0.0099\n",
      "Epoch 129/200\n",
      "133/133 [==============================] - 0s 1ms/step - loss: 0.0124 - val_loss: 0.0093\n",
      "Epoch 130/200\n",
      "133/133 [==============================] - 0s 1ms/step - loss: 0.0118 - val_loss: 0.0102\n",
      "Epoch 131/200\n",
      "133/133 [==============================] - 0s 1ms/step - loss: 0.0123 - val_loss: 0.0093\n",
      "Epoch 132/200\n",
      "133/133 [==============================] - 0s 1ms/step - loss: 0.0121 - val_loss: 0.0097\n",
      "Epoch 133/200\n",
      "133/133 [==============================] - 0s 1ms/step - loss: 0.0117 - val_loss: 0.0092\n",
      "Epoch 134/200\n",
      "133/133 [==============================] - 0s 1ms/step - loss: 0.0126 - val_loss: 0.0096\n",
      "Epoch 135/200\n",
      "133/133 [==============================] - 0s 1ms/step - loss: 0.0118 - val_loss: 0.0100\n",
      "Epoch 136/200\n",
      "133/133 [==============================] - 0s 1ms/step - loss: 0.0120 - val_loss: 0.0100\n",
      "Epoch 137/200\n",
      "133/133 [==============================] - 0s 1ms/step - loss: 0.0127 - val_loss: 0.0105\n",
      "Epoch 138/200\n",
      "133/133 [==============================] - 0s 1ms/step - loss: 0.0122 - val_loss: 0.0089\n",
      "Epoch 139/200\n",
      "133/133 [==============================] - 0s 1ms/step - loss: 0.0122 - val_loss: 0.0098\n",
      "Epoch 140/200\n",
      "133/133 [==============================] - 0s 1ms/step - loss: 0.0119 - val_loss: 0.0098\n",
      "Epoch 141/200\n",
      "133/133 [==============================] - 0s 1ms/step - loss: 0.0118 - val_loss: 0.0106\n",
      "Epoch 142/200\n",
      "133/133 [==============================] - 0s 1ms/step - loss: 0.0118 - val_loss: 0.0097\n",
      "Epoch 143/200\n",
      "133/133 [==============================] - 0s 1ms/step - loss: 0.0115 - val_loss: 0.0098\n",
      "Epoch 144/200\n",
      "133/133 [==============================] - 0s 1ms/step - loss: 0.0121 - val_loss: 0.0107\n",
      "Epoch 145/200\n",
      "133/133 [==============================] - 0s 1ms/step - loss: 0.0119 - val_loss: 0.0100\n",
      "Epoch 146/200\n",
      "133/133 [==============================] - 0s 1ms/step - loss: 0.0131 - val_loss: 0.0092\n",
      "Epoch 147/200\n",
      "133/133 [==============================] - 0s 1ms/step - loss: 0.0128 - val_loss: 0.0106\n",
      "Epoch 148/200\n",
      "133/133 [==============================] - 0s 1ms/step - loss: 0.0119 - val_loss: 0.0097\n",
      "Epoch 149/200\n",
      "133/133 [==============================] - 0s 1ms/step - loss: 0.0124 - val_loss: 0.0103\n",
      "Epoch 150/200\n",
      "133/133 [==============================] - 0s 1ms/step - loss: 0.0124 - val_loss: 0.0106\n",
      "Epoch 151/200\n",
      "133/133 [==============================] - 0s 2ms/step - loss: 0.0115 - val_loss: 0.0098\n",
      "Epoch 152/200\n",
      "133/133 [==============================] - 0s 1ms/step - loss: 0.0118 - val_loss: 0.0102\n",
      "Epoch 153/200\n",
      "133/133 [==============================] - 0s 2ms/step - loss: 0.0119 - val_loss: 0.0099\n",
      "Epoch 154/200\n",
      "133/133 [==============================] - 0s 1ms/step - loss: 0.0114 - val_loss: 0.0101\n",
      "Epoch 155/200\n",
      "133/133 [==============================] - 0s 1ms/step - loss: 0.0112 - val_loss: 0.0105\n",
      "Epoch 156/200\n",
      "133/133 [==============================] - 0s 1ms/step - loss: 0.0114 - val_loss: 0.0098\n",
      "Epoch 157/200\n",
      "133/133 [==============================] - 0s 2ms/step - loss: 0.0121 - val_loss: 0.0095\n"
     ]
    },
    {
     "name": "stdout",
     "output_type": "stream",
     "text": [
      "Epoch 158/200\n",
      "133/133 [==============================] - 0s 1ms/step - loss: 0.0125 - val_loss: 0.0104\n",
      "Epoch 159/200\n",
      "133/133 [==============================] - 0s 1ms/step - loss: 0.0112 - val_loss: 0.0114\n",
      "Epoch 160/200\n",
      "133/133 [==============================] - 0s 1ms/step - loss: 0.0110 - val_loss: 0.0103\n",
      "Epoch 161/200\n",
      "133/133 [==============================] - 0s 1ms/step - loss: 0.0127 - val_loss: 0.0097\n",
      "Epoch 162/200\n",
      "133/133 [==============================] - 0s 1ms/step - loss: 0.0134 - val_loss: 0.0106\n",
      "Epoch 163/200\n",
      "133/133 [==============================] - 0s 1ms/step - loss: 0.0123 - val_loss: 0.0131\n",
      "Epoch 164/200\n",
      "133/133 [==============================] - 0s 1ms/step - loss: 0.0124 - val_loss: 0.0111\n",
      "Epoch 165/200\n",
      "133/133 [==============================] - 0s 1ms/step - loss: 0.0117 - val_loss: 0.0089\n",
      "Epoch 166/200\n",
      "133/133 [==============================] - 0s 1ms/step - loss: 0.0122 - val_loss: 0.0099\n",
      "Epoch 167/200\n",
      "133/133 [==============================] - 0s 1ms/step - loss: 0.0116 - val_loss: 0.0111\n",
      "Epoch 168/200\n",
      "133/133 [==============================] - 0s 1ms/step - loss: 0.0113 - val_loss: 0.0093\n",
      "Epoch 169/200\n",
      "133/133 [==============================] - 0s 1ms/step - loss: 0.0118 - val_loss: 0.0097\n",
      "Epoch 170/200\n",
      "133/133 [==============================] - 0s 1ms/step - loss: 0.0115 - val_loss: 0.0114\n",
      "Epoch 171/200\n",
      "133/133 [==============================] - 0s 1ms/step - loss: 0.0109 - val_loss: 0.0095\n",
      "Epoch 172/200\n",
      "133/133 [==============================] - 0s 1ms/step - loss: 0.0117 - val_loss: 0.0095\n",
      "Epoch 173/200\n",
      "133/133 [==============================] - 0s 1ms/step - loss: 0.0110 - val_loss: 0.0106\n",
      "Epoch 174/200\n",
      "133/133 [==============================] - 0s 1ms/step - loss: 0.0113 - val_loss: 0.0106\n",
      "Epoch 175/200\n",
      "133/133 [==============================] - 0s 1ms/step - loss: 0.0115 - val_loss: 0.0102\n",
      "Epoch 176/200\n",
      "133/133 [==============================] - 0s 1ms/step - loss: 0.0112 - val_loss: 0.0095\n",
      "Epoch 177/200\n",
      "133/133 [==============================] - 0s 1ms/step - loss: 0.0112 - val_loss: 0.0115\n",
      "Epoch 178/200\n",
      "133/133 [==============================] - 0s 1ms/step - loss: 0.0123 - val_loss: 0.0098\n",
      "Epoch 179/200\n",
      "133/133 [==============================] - 0s 1ms/step - loss: 0.0115 - val_loss: 0.0095\n",
      "Epoch 180/200\n",
      "133/133 [==============================] - 0s 1ms/step - loss: 0.0109 - val_loss: 0.0108\n",
      "Epoch 181/200\n",
      "133/133 [==============================] - 0s 1ms/step - loss: 0.0113 - val_loss: 0.0104\n",
      "Epoch 182/200\n",
      "133/133 [==============================] - 0s 1ms/step - loss: 0.0115 - val_loss: 0.0099\n",
      "Epoch 183/200\n",
      "133/133 [==============================] - 0s 1ms/step - loss: 0.0115 - val_loss: 0.0094\n",
      "Epoch 184/200\n",
      "133/133 [==============================] - 0s 1ms/step - loss: 0.0117 - val_loss: 0.0105\n",
      "Epoch 185/200\n",
      "133/133 [==============================] - 0s 1ms/step - loss: 0.0111 - val_loss: 0.0107\n",
      "Epoch 186/200\n",
      "133/133 [==============================] - 0s 1ms/step - loss: 0.0117 - val_loss: 0.0102\n",
      "Epoch 187/200\n",
      "133/133 [==============================] - 0s 1ms/step - loss: 0.0112 - val_loss: 0.0105\n",
      "Epoch 188/200\n",
      "133/133 [==============================] - 0s 1ms/step - loss: 0.0122 - val_loss: 0.0105\n",
      "Epoch 189/200\n",
      "133/133 [==============================] - 0s 1ms/step - loss: 0.0124 - val_loss: 0.0100\n",
      "Epoch 190/200\n",
      "133/133 [==============================] - 0s 1ms/step - loss: 0.0111 - val_loss: 0.0113\n",
      "Epoch 191/200\n",
      "133/133 [==============================] - 0s 1ms/step - loss: 0.0113 - val_loss: 0.0099\n",
      "Epoch 192/200\n",
      "133/133 [==============================] - 0s 1ms/step - loss: 0.0110 - val_loss: 0.0111\n",
      "Epoch 193/200\n",
      "133/133 [==============================] - 0s 1ms/step - loss: 0.0109 - val_loss: 0.0098\n",
      "Epoch 194/200\n",
      "133/133 [==============================] - 0s 1ms/step - loss: 0.0108 - val_loss: 0.0102\n",
      "Epoch 195/200\n",
      "133/133 [==============================] - 0s 1ms/step - loss: 0.0109 - val_loss: 0.0110\n",
      "Epoch 196/200\n",
      "133/133 [==============================] - 0s 1ms/step - loss: 0.0123 - val_loss: 0.0099\n",
      "Epoch 197/200\n",
      "133/133 [==============================] - 0s 1ms/step - loss: 0.0118 - val_loss: 0.0107\n",
      "Epoch 198/200\n",
      "133/133 [==============================] - 0s 1ms/step - loss: 0.0127 - val_loss: 0.0105\n",
      "Epoch 199/200\n",
      "133/133 [==============================] - 0s 1ms/step - loss: 0.0106 - val_loss: 0.0110\n",
      "Epoch 200/200\n",
      "133/133 [==============================] - 0s 1ms/step - loss: 0.0109 - val_loss: 0.0111\n"
     ]
    },
    {
     "data": {
      "text/plain": [
       "<keras.callbacks.callbacks.History at 0x15712f1d0b8>"
      ]
     },
     "execution_count": 43,
     "metadata": {},
     "output_type": "execute_result"
    }
   ],
   "source": [
    "model = Sequential()\n",
    "\n",
    "# Adding the first LSTM layer and some Dropout regularisation\n",
    "model.add(LSTM(units = 50, return_sequences = True, input_shape = (X_train.shape[1], 1)))\n",
    "#model.add(Dropout(0.2))\n",
    "\n",
    "# Adding a second LSTM layer and some Dropout regularisation\n",
    "model.add(LSTM(units = 50))\n",
    "#model.add(Dropout(0.2))\n",
    "\n",
    "# Adding the output layer\n",
    "model.add(Dense(units = 1))\n",
    "\n",
    "# Compiling the RNN\n",
    "model.compile(optimizer = 'adam', loss = 'mean_squared_error')\n",
    "\n",
    "# Fitting the RNN to the Training set\n",
    "model.fit(X_train, y_train, epochs = 200, batch_size = 20,validation_split = 0.2)"
   ]
  },
  {
   "cell_type": "code",
   "execution_count": 44,
   "metadata": {},
   "outputs": [
    {
     "data": {
      "image/png": "[encoded data removed]",
      "text/plain": [
       "<Figure size 432x288 with 1 Axes>"
      ]
     },
     "metadata": {
      "needs_background": "light"
     },
     "output_type": "display_data"
    }
   ],
   "source": [
    "training_for_pred = training_y.copy()\n",
    "\n",
    "pred = []\n",
    "for i in range(len(validation_y)):\n",
    "\n",
    "    X = training_for_pred[-time_steps:] \n",
    "    #print(X)\n",
    "    X = sc.transform(np.array(X).reshape(len(X),1))\n",
    "    X = X.reshape(1,time_steps,1)\n",
    "    output = model.predict(X)\n",
    "    output = sc.inverse_transform(output)[0][0]\n",
    "    pred.append(output)\n",
    "    #print(output)\n",
    "    training_for_pred.append(output) \n",
    "\n",
    "plot1, = plt.plot(validation['week'],validation['revenue'])\n",
    "plot2, = plt.plot(validation['week'],pred)\n",
    "\n",
    "\n",
    "    \n",
    "plt.legend([plot1,plot2],['Actual','Predicted'])\n",
    "plt.xticks(rotation=90)\n",
    "plt.xlabel(\"Weeks\")\n",
    "plt.ylabel(\"Revenue\")\n",
    "plt.title(\"LSTM : Actual vs. predicted\")\n",
    "plt.show()"
   ]
  },
  {
   "cell_type": "code",
   "execution_count": 45,
   "metadata": {},
   "outputs": [
    {
     "name": "stdout",
     "output_type": "stream",
     "text": [
      "10.452770209360123\n"
     ]
    }
   ],
   "source": [
    "error = mean_absolute_percentage_error(validation_y, pred)\n",
    "print(error)"
   ]
  },
  {
   "cell_type": "markdown",
   "metadata": {},
   "source": [
    "## Deep LSTM"
   ]
  },
  {
   "cell_type": "code",
   "execution_count": 46,
   "metadata": {},
   "outputs": [
    {
     "name": "stdout",
     "output_type": "stream",
     "text": [
      "Train on 133 samples, validate on 34 samples\n",
      "Epoch 1/100\n",
      "133/133 [==============================] - 2s 13ms/step - loss: 0.0731 - val_loss: 0.0210\n",
      "Epoch 2/100\n",
      "133/133 [==============================] - 1s 5ms/step - loss: 0.0423 - val_loss: 0.0280\n",
      "Epoch 3/100\n",
      "133/133 [==============================] - 1s 5ms/step - loss: 0.0330 - val_loss: 0.0123\n",
      "Epoch 4/100\n",
      "133/133 [==============================] - 1s 5ms/step - loss: 0.0292 - val_loss: 0.0161\n",
      "Epoch 5/100\n",
      "133/133 [==============================] - 1s 5ms/step - loss: 0.0290 - val_loss: 0.0135\n",
      "Epoch 6/100\n",
      "133/133 [==============================] - 1s 5ms/step - loss: 0.0298 - val_loss: 0.0137\n",
      "Epoch 7/100\n",
      "133/133 [==============================] - 1s 5ms/step - loss: 0.0286 - val_loss: 0.0129\n",
      "Epoch 8/100\n",
      "133/133 [==============================] - 1s 5ms/step - loss: 0.0268 - val_loss: 0.0117\n",
      "Epoch 9/100\n",
      "133/133 [==============================] - 1s 5ms/step - loss: 0.0266 - val_loss: 0.0183\n",
      "Epoch 10/100\n",
      "133/133 [==============================] - 1s 5ms/step - loss: 0.0258 - val_loss: 0.0168\n",
      "Epoch 11/100\n",
      "133/133 [==============================] - 1s 5ms/step - loss: 0.0228 - val_loss: 0.0118\n",
      "Epoch 12/100\n",
      "133/133 [==============================] - 1s 5ms/step - loss: 0.0189 - val_loss: 0.0132\n",
      "Epoch 13/100\n",
      "133/133 [==============================] - 1s 6ms/step - loss: 0.0202 - val_loss: 0.0113\n",
      "Epoch 14/100\n",
      "133/133 [==============================] - 1s 5ms/step - loss: 0.0182 - val_loss: 0.0190\n",
      "Epoch 15/100\n",
      "133/133 [==============================] - 1s 6ms/step - loss: 0.0209 - val_loss: 0.0147\n",
      "Epoch 16/100\n",
      "133/133 [==============================] - 1s 6ms/step - loss: 0.0203 - val_loss: 0.0138\n",
      "Epoch 17/100\n",
      "133/133 [==============================] - 1s 5ms/step - loss: 0.0189 - val_loss: 0.0114\n",
      "Epoch 18/100\n",
      "133/133 [==============================] - 1s 5ms/step - loss: 0.0196 - val_loss: 0.0118\n",
      "Epoch 19/100\n",
      "133/133 [==============================] - 1s 5ms/step - loss: 0.0196 - val_loss: 0.0112\n",
      "Epoch 20/100\n",
      "133/133 [==============================] - 1s 5ms/step - loss: 0.0183 - val_loss: 0.0111\n",
      "Epoch 21/100\n",
      "133/133 [==============================] - 1s 6ms/step - loss: 0.0171 - val_loss: 0.0139\n",
      "Epoch 22/100\n",
      "133/133 [==============================] - 1s 6ms/step - loss: 0.0161 - val_loss: 0.0139\n",
      "Epoch 23/100\n",
      "133/133 [==============================] - 1s 6ms/step - loss: 0.0196 - val_loss: 0.0104\n",
      "Epoch 24/100\n",
      "133/133 [==============================] - 1s 5ms/step - loss: 0.0168 - val_loss: 0.0104\n",
      "Epoch 25/100\n",
      "133/133 [==============================] - 1s 5ms/step - loss: 0.0176 - val_loss: 0.0102\n",
      "Epoch 26/100\n",
      "133/133 [==============================] - 1s 5ms/step - loss: 0.0200 - val_loss: 0.0138\n",
      "Epoch 27/100\n",
      "133/133 [==============================] - 1s 5ms/step - loss: 0.0178 - val_loss: 0.0146\n",
      "Epoch 28/100\n",
      "133/133 [==============================] - 1s 5ms/step - loss: 0.0158 - val_loss: 0.0102\n",
      "Epoch 29/100\n",
      "133/133 [==============================] - 1s 5ms/step - loss: 0.0191 - val_loss: 0.0100\n",
      "Epoch 30/100\n",
      "133/133 [==============================] - 1s 5ms/step - loss: 0.0160 - val_loss: 0.0101\n",
      "Epoch 31/100\n",
      "133/133 [==============================] - 1s 5ms/step - loss: 0.0151 - val_loss: 0.0104\n",
      "Epoch 32/100\n",
      "133/133 [==============================] - 1s 6ms/step - loss: 0.0145 - val_loss: 0.0116\n",
      "Epoch 33/100\n",
      "133/133 [==============================] - 1s 5ms/step - loss: 0.0174 - val_loss: 0.0102\n",
      "Epoch 34/100\n",
      "133/133 [==============================] - 1s 5ms/step - loss: 0.0156 - val_loss: 0.0105\n",
      "Epoch 35/100\n",
      "133/133 [==============================] - 1s 5ms/step - loss: 0.0141 - val_loss: 0.0184\n",
      "Epoch 36/100\n",
      "133/133 [==============================] - 1s 5ms/step - loss: 0.0191 - val_loss: 0.0101\n",
      "Epoch 37/100\n",
      "133/133 [==============================] - 1s 5ms/step - loss: 0.0156 - val_loss: 0.0108\n",
      "Epoch 38/100\n",
      "133/133 [==============================] - 1s 5ms/step - loss: 0.0150 - val_loss: 0.0124\n",
      "Epoch 39/100\n",
      "133/133 [==============================] - 1s 5ms/step - loss: 0.0165 - val_loss: 0.0103\n",
      "Epoch 40/100\n",
      "133/133 [==============================] - 1s 5ms/step - loss: 0.0146 - val_loss: 0.0105\n",
      "Epoch 41/100\n",
      "133/133 [==============================] - 1s 5ms/step - loss: 0.0164 - val_loss: 0.0099\n",
      "Epoch 42/100\n",
      "133/133 [==============================] - 1s 5ms/step - loss: 0.0156 - val_loss: 0.0097\n",
      "Epoch 43/100\n",
      "133/133 [==============================] - 1s 5ms/step - loss: 0.0154 - val_loss: 0.0105\n",
      "Epoch 44/100\n",
      "133/133 [==============================] - 1s 5ms/step - loss: 0.0126 - val_loss: 0.0124\n",
      "Epoch 45/100\n",
      "133/133 [==============================] - 1s 5ms/step - loss: 0.0148 - val_loss: 0.0113\n",
      "Epoch 46/100\n",
      "133/133 [==============================] - 1s 5ms/step - loss: 0.0157 - val_loss: 0.0098\n",
      "Epoch 47/100\n",
      "133/133 [==============================] - 1s 5ms/step - loss: 0.0153 - val_loss: 0.0114\n",
      "Epoch 48/100\n",
      "133/133 [==============================] - 1s 5ms/step - loss: 0.0145 - val_loss: 0.0107\n",
      "Epoch 49/100\n",
      "133/133 [==============================] - 1s 5ms/step - loss: 0.0160 - val_loss: 0.0106\n",
      "Epoch 50/100\n",
      "133/133 [==============================] - 1s 5ms/step - loss: 0.0129 - val_loss: 0.0095\n",
      "Epoch 51/100\n",
      "133/133 [==============================] - 1s 5ms/step - loss: 0.0175 - val_loss: 0.0092\n",
      "Epoch 52/100\n",
      "133/133 [==============================] - 1s 5ms/step - loss: 0.0165 - val_loss: 0.0132\n",
      "Epoch 53/100\n",
      "133/133 [==============================] - 1s 5ms/step - loss: 0.0166 - val_loss: 0.0102\n",
      "Epoch 54/100\n",
      "133/133 [==============================] - 1s 5ms/step - loss: 0.0159 - val_loss: 0.0097\n",
      "Epoch 55/100\n",
      "133/133 [==============================] - 1s 5ms/step - loss: 0.0147 - val_loss: 0.0105\n",
      "Epoch 56/100\n",
      "133/133 [==============================] - 1s 5ms/step - loss: 0.0159 - val_loss: 0.0103\n",
      "Epoch 57/100\n",
      "133/133 [==============================] - 1s 5ms/step - loss: 0.0131 - val_loss: 0.0097\n",
      "Epoch 58/100\n",
      "133/133 [==============================] - 1s 5ms/step - loss: 0.0127 - val_loss: 0.0095\n",
      "Epoch 59/100\n",
      "133/133 [==============================] - 1s 5ms/step - loss: 0.0141 - val_loss: 0.0119\n",
      "Epoch 60/100\n",
      "133/133 [==============================] - 1s 5ms/step - loss: 0.0150 - val_loss: 0.0088\n",
      "Epoch 61/100\n",
      "133/133 [==============================] - 1s 5ms/step - loss: 0.0141 - val_loss: 0.0108\n",
      "Epoch 62/100\n",
      "133/133 [==============================] - 1s 5ms/step - loss: 0.0158 - val_loss: 0.0103\n",
      "Epoch 63/100\n",
      "133/133 [==============================] - 1s 5ms/step - loss: 0.0137 - val_loss: 0.0110\n",
      "Epoch 64/100\n",
      "133/133 [==============================] - 1s 5ms/step - loss: 0.0165 - val_loss: 0.0094\n",
      "Epoch 65/100\n",
      "133/133 [==============================] - 1s 5ms/step - loss: 0.0148 - val_loss: 0.0095\n",
      "Epoch 66/100\n",
      "133/133 [==============================] - 1s 5ms/step - loss: 0.0133 - val_loss: 0.0107\n",
      "Epoch 67/100\n",
      "133/133 [==============================] - 1s 5ms/step - loss: 0.0141 - val_loss: 0.0116\n",
      "Epoch 68/100\n",
      "133/133 [==============================] - 1s 5ms/step - loss: 0.0138 - val_loss: 0.0097\n",
      "Epoch 69/100\n",
      "133/133 [==============================] - 1s 5ms/step - loss: 0.0140 - val_loss: 0.0091\n",
      "Epoch 70/100\n",
      "133/133 [==============================] - 1s 5ms/step - loss: 0.0155 - val_loss: 0.0099\n",
      "Epoch 71/100\n",
      "133/133 [==============================] - 1s 5ms/step - loss: 0.0144 - val_loss: 0.0122\n",
      "Epoch 72/100\n",
      "133/133 [==============================] - 1s 5ms/step - loss: 0.0146 - val_loss: 0.0095\n",
      "Epoch 73/100\n",
      "133/133 [==============================] - 1s 5ms/step - loss: 0.0152 - val_loss: 0.0097\n",
      "Epoch 74/100\n",
      "133/133 [==============================] - 1s 5ms/step - loss: 0.0146 - val_loss: 0.0095\n",
      "Epoch 75/100\n",
      "133/133 [==============================] - 1s 5ms/step - loss: 0.0142 - val_loss: 0.0110\n",
      "Epoch 76/100\n",
      "133/133 [==============================] - 1s 5ms/step - loss: 0.0147 - val_loss: 0.0098\n",
      "Epoch 77/100\n",
      "133/133 [==============================] - 1s 5ms/step - loss: 0.0164 - val_loss: 0.0096\n",
      "Epoch 78/100\n",
      "133/133 [==============================] - 1s 5ms/step - loss: 0.0122 - val_loss: 0.0108\n",
      "Epoch 79/100\n",
      "133/133 [==============================] - 1s 5ms/step - loss: 0.0129 - val_loss: 0.0091\n",
      "Epoch 80/100\n",
      "133/133 [==============================] - 1s 5ms/step - loss: 0.0134 - val_loss: 0.0115\n"
     ]
    },
    {
     "name": "stdout",
     "output_type": "stream",
     "text": [
      "Epoch 81/100\n",
      "133/133 [==============================] - 1s 5ms/step - loss: 0.0162 - val_loss: 0.0088\n",
      "Epoch 82/100\n",
      "133/133 [==============================] - 1s 5ms/step - loss: 0.0144 - val_loss: 0.0101\n",
      "Epoch 83/100\n",
      "133/133 [==============================] - 1s 5ms/step - loss: 0.0136 - val_loss: 0.0092\n",
      "Epoch 84/100\n",
      "133/133 [==============================] - 1s 5ms/step - loss: 0.0141 - val_loss: 0.0124\n",
      "Epoch 85/100\n",
      "133/133 [==============================] - 1s 5ms/step - loss: 0.0151 - val_loss: 0.0106\n",
      "Epoch 86/100\n",
      "133/133 [==============================] - 1s 5ms/step - loss: 0.0164 - val_loss: 0.0097\n",
      "Epoch 87/100\n",
      "133/133 [==============================] - 1s 5ms/step - loss: 0.0140 - val_loss: 0.0104\n",
      "Epoch 88/100\n",
      "133/133 [==============================] - 1s 5ms/step - loss: 0.0134 - val_loss: 0.0088\n",
      "Epoch 89/100\n",
      "133/133 [==============================] - 1s 5ms/step - loss: 0.0133 - val_loss: 0.0112\n",
      "Epoch 90/100\n",
      "133/133 [==============================] - 1s 5ms/step - loss: 0.0145 - val_loss: 0.0087\n",
      "Epoch 91/100\n",
      "133/133 [==============================] - 1s 5ms/step - loss: 0.0156 - val_loss: 0.0105\n",
      "Epoch 92/100\n",
      "133/133 [==============================] - 1s 5ms/step - loss: 0.0145 - val_loss: 0.0098\n",
      "Epoch 93/100\n",
      "133/133 [==============================] - 1s 5ms/step - loss: 0.0175 - val_loss: 0.0102\n",
      "Epoch 94/100\n",
      "133/133 [==============================] - 1s 5ms/step - loss: 0.0136 - val_loss: 0.0103\n",
      "Epoch 95/100\n",
      "133/133 [==============================] - 1s 5ms/step - loss: 0.0145 - val_loss: 0.0131\n",
      "Epoch 96/100\n",
      "133/133 [==============================] - 1s 5ms/step - loss: 0.0128 - val_loss: 0.0097\n",
      "Epoch 97/100\n",
      "133/133 [==============================] - 1s 5ms/step - loss: 0.0131 - val_loss: 0.0101\n",
      "Epoch 98/100\n",
      "133/133 [==============================] - 1s 5ms/step - loss: 0.0139 - val_loss: 0.0099\n",
      "Epoch 99/100\n",
      "133/133 [==============================] - 1s 5ms/step - loss: 0.0132 - val_loss: 0.0098\n",
      "Epoch 100/100\n",
      "133/133 [==============================] - 1s 5ms/step - loss: 0.0148 - val_loss: 0.0114\n"
     ]
    },
    {
     "data": {
      "text/plain": [
       "<keras.callbacks.callbacks.History at 0x1571d83c908>"
      ]
     },
     "execution_count": 46,
     "metadata": {},
     "output_type": "execute_result"
    }
   ],
   "source": [
    "model = Sequential()\n",
    "\n",
    "# Adding the first LSTM layer and some Dropout regularisation\n",
    "model.add(LSTM(units = 50, return_sequences = True, input_shape = (X_train.shape[1], 1)))\n",
    "model.add(Dropout(0.2))\n",
    "\n",
    "# Adding a second LSTM layer and some Dropout regularisation\n",
    "model.add(LSTM(units = 50, return_sequences = True))\n",
    "model.add(Dropout(0.2))\n",
    "\n",
    "# Adding a third LSTM layer and some Dropout regularisation\n",
    "model.add(LSTM(units = 50, return_sequences = True))\n",
    "model.add(Dropout(0.2))\n",
    "\n",
    "# Adding a fourth LSTM layer and some Dropout regularisation\n",
    "model.add(LSTM(units = 50))\n",
    "model.add(Dropout(0.2))\n",
    "\n",
    "# Adding the output layer\n",
    "model.add(Dense(units = 1))\n",
    "\n",
    "# Compiling the RNN\n",
    "model.compile(optimizer = 'adam', loss = 'mean_squared_error')\n",
    "\n",
    "# Fitting the RNN to the Training set\n",
    "model.fit(X_train, y_train, epochs = 100, batch_size = 10, validation_split = 0.2)"
   ]
  },
  {
   "cell_type": "code",
   "execution_count": 47,
   "metadata": {},
   "outputs": [
    {
     "data": {
      "image/png": "[encoded data removed]",
      "text/plain": [
       "<Figure size 432x288 with 1 Axes>"
      ]
     },
     "metadata": {
      "needs_background": "light"
     },
     "output_type": "display_data"
    }
   ],
   "source": [
    "training_for_pred = training_y.copy()\n",
    "\n",
    "pred = []\n",
    "for i in range(len(validation_y)):\n",
    "\n",
    "    X = training_for_pred[-time_steps:] \n",
    "    #print(X)\n",
    "    X = sc.transform(np.array(X).reshape(len(X),1))\n",
    "    X = X.reshape(1,time_steps,1)\n",
    "    output = model.predict(X)\n",
    "    output = sc.inverse_transform(output)[0][0]\n",
    "    pred.append(output)\n",
    "    #print(output)\n",
    "    training_for_pred.append(output) \n",
    "\n",
    "plot1, = plt.plot(validation['week'],validation['revenue'])\n",
    "plot2, = plt.plot(validation['week'],pred)\n",
    "\n",
    "\n",
    "    \n",
    "plt.legend([plot1,plot2],['Actual','Predicted'])\n",
    "plt.xticks(rotation=90)\n",
    "plt.xlabel(\"Weeks\")\n",
    "plt.ylabel(\"Revenue\")\n",
    "plt.title(\"LSTM : Actual vs. predicted\")\n",
    "plt.show()"
   ]
  },
  {
   "cell_type": "code",
   "execution_count": 48,
   "metadata": {},
   "outputs": [
    {
     "name": "stdout",
     "output_type": "stream",
     "text": [
      "14.427776668584654\n"
     ]
    }
   ],
   "source": [
    "error = mean_absolute_percentage_error(validation_y, pred)\n",
    "print(error)"
   ]
  },
  {
   "cell_type": "markdown",
   "metadata": {},
   "source": [
    "## Model Selection"
   ]
  },
  {
   "cell_type": "markdown",
   "metadata": {},
   "source": [
    "Although LSTM is one of the best models was not giving a good result in terms of actual vs. predicted graph comparison, as the predicted curve was smoothened. We expect the predictions to be more accurate with lumpy revenues also getting accurately predicted. This is probably because of the fact that we have very less data for training i.e. only 209 rows. We need to have minimum rows for it to capture the pattern. We want to go with exponential smoothing with the results obtained. \n",
    "\n",
    "Next steps:\n",
    "\n",
    "1. Train the dataset with the final config_dict\n",
    "2. Use the modelt to predict for year=20 and week=11 through 20"
   ]
  },
  {
   "cell_type": "code",
   "execution_count": 49,
   "metadata": {},
   "outputs": [],
   "source": [
    "training_y = list(df.query(\"week<='20-W10'\")['revenue'])"
   ]
  },
  {
   "cell_type": "code",
   "execution_count": 50,
   "metadata": {},
   "outputs": [],
   "source": [
    "training_for_pred = training_y.copy()\n",
    "\n",
    "pred = []\n",
    "for i in range(len(validation_y)):\n",
    "\n",
    "    # define model model\n",
    "    model = ExponentialSmoothing(training_for_pred,trend = None,\n",
    "                                     seasonal=config_dict['seasonal'], seasonal_periods=config_dict['seasonal_periods'])\n",
    "    # fit model\n",
    "    model_fit = model.fit(optimized=True, use_boxcox=config_dict['use_boxcox'], remove_bias=config_dict['remove_bias'])\n",
    "    # make one step forecast\n",
    "    output = model_fit.forecast()[0]\n",
    "    #print(output)\n",
    "    pred.append(output)\n",
    "    training_for_pred.append(output) \n"
   ]
  },
  {
   "cell_type": "code",
   "execution_count": 51,
   "metadata": {},
   "outputs": [],
   "source": [
    "df_copy = df.copy()\n",
    "\n",
    "df.loc[df['year_num']=='test_','revenue'] = pred"
   ]
  },
  {
   "cell_type": "code",
   "execution_count": 52,
   "metadata": {},
   "outputs": [],
   "source": [
    "output = df[['week','revenue']]\n",
    "output.loc[:,'revenue'] = output['revenue']*100000"
   ]
  },
  {
   "cell_type": "markdown",
   "metadata": {},
   "source": [
    "## Final predictions for test period:"
   ]
  },
  {
   "cell_type": "code",
   "execution_count": 53,
   "metadata": {},
   "outputs": [
    {
     "data": {
      "text/html": [
       "<div>\n",
       "<style scoped>\n",
       "    .dataframe tbody tr th:only-of-type {\n",
       "        vertical-align: middle;\n",
       "    }\n",
       "\n",
       "    .dataframe tbody tr th {\n",
       "        vertical-align: top;\n",
       "    }\n",
       "\n",
       "    .dataframe thead th {\n",
       "        text-align: right;\n",
       "    }\n",
       "</style>\n",
       "<table border=\"1\" class=\"dataframe\">\n",
       "  <thead>\n",
       "    <tr style=\"text-align: right;\">\n",
       "      <th></th>\n",
       "      <th>week</th>\n",
       "      <th>revenue</th>\n",
       "    </tr>\n",
       "  </thead>\n",
       "  <tbody>\n",
       "    <tr>\n",
       "      <th>271</th>\n",
       "      <td>test_-W11</td>\n",
       "      <td>2.158265e+06</td>\n",
       "    </tr>\n",
       "    <tr>\n",
       "      <th>272</th>\n",
       "      <td>test_-W12</td>\n",
       "      <td>2.221744e+06</td>\n",
       "    </tr>\n",
       "    <tr>\n",
       "      <th>273</th>\n",
       "      <td>test_-W13</td>\n",
       "      <td>2.299196e+06</td>\n",
       "    </tr>\n",
       "    <tr>\n",
       "      <th>274</th>\n",
       "      <td>test_-W14</td>\n",
       "      <td>2.147524e+06</td>\n",
       "    </tr>\n",
       "    <tr>\n",
       "      <th>275</th>\n",
       "      <td>test_-W15</td>\n",
       "      <td>2.196559e+06</td>\n",
       "    </tr>\n",
       "    <tr>\n",
       "      <th>276</th>\n",
       "      <td>test_-W16</td>\n",
       "      <td>2.206989e+06</td>\n",
       "    </tr>\n",
       "    <tr>\n",
       "      <th>277</th>\n",
       "      <td>test_-W17</td>\n",
       "      <td>2.106431e+06</td>\n",
       "    </tr>\n",
       "    <tr>\n",
       "      <th>278</th>\n",
       "      <td>test_-W18</td>\n",
       "      <td>2.376424e+06</td>\n",
       "    </tr>\n",
       "    <tr>\n",
       "      <th>279</th>\n",
       "      <td>test_-W19</td>\n",
       "      <td>2.124683e+06</td>\n",
       "    </tr>\n",
       "    <tr>\n",
       "      <th>280</th>\n",
       "      <td>test_-W20</td>\n",
       "      <td>2.484729e+06</td>\n",
       "    </tr>\n",
       "  </tbody>\n",
       "</table>\n",
       "</div>"
      ],
      "text/plain": [
       "          week       revenue\n",
       "271  test_-W11  2.158265e+06\n",
       "272  test_-W12  2.221744e+06\n",
       "273  test_-W13  2.299196e+06\n",
       "274  test_-W14  2.147524e+06\n",
       "275  test_-W15  2.196559e+06\n",
       "276  test_-W16  2.206989e+06\n",
       "277  test_-W17  2.106431e+06\n",
       "278  test_-W18  2.376424e+06\n",
       "279  test_-W19  2.124683e+06\n",
       "280  test_-W20  2.484729e+06"
      ]
     },
     "execution_count": 53,
     "metadata": {},
     "output_type": "execute_result"
    }
   ],
   "source": [
    "output.iloc[-10:]"
   ]
  },
  {
   "cell_type": "code",
   "execution_count": null,
   "metadata": {},
   "outputs": [],
   "source": []
  }
 ],
 "metadata": {
  "kernelspec": {
   "display_name": "Python 3",
   "language": "python",
   "name": "python3"
  },
  "language_info": {
   "codemirror_mode": {
    "name": "ipython",
    "version": 3
   },
   "file_extension": ".py",
   "mimetype": "text/x-python",
   "name": "python",
   "nbconvert_exporter": "python",
   "pygments_lexer": "ipython3",
   "version": "3.7.3"
  }
 },
 "nbformat": 4,
 "nbformat_minor": 2
}
